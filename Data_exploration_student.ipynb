{
 "cells": [
  {
   "cell_type": "markdown",
   "metadata": {},
   "source": [
    "# Data Carpentry Reproducible Research Workshop - Data Exploration"
   ]
  },
  {
   "cell_type": "markdown",
   "metadata": {},
   "source": [
    "#### Authors: Brian Avery, Nima Hejazi, Kellie Ottoboni, Clara Sorensen, Niek Veldhuis"
   ]
  },
  {
   "cell_type": "markdown",
   "metadata": {},
   "source": [
    "## Things You'll Need to Complete This Tutorial\n",
    "\n",
    "This lesson uses packages that you've already downloaded along with the Anaconda distribution of Python.\n",
    "\n",
    "### Download Data\n",
    "\n",
    "In this lesson, you will use the Gapminder dataset. Please download the data from the web [here](https://raw.githubusercontent.com/Reproducible-Science-Curriculum/data-exploration-RR-Jupyter/gh-pages/data/gapminderDataFiveYear_superDirty.txt) and [here](https://raw.githubusercontent.com/Reproducible-Science-Curriculum/data-exploration-RR-Jupyter/gh-pages/data/PRB_data.txt) from GitHub by right-clicking on the link and selecting \"Save Link As...\" in the drop down menu."
   ]
  },
  {
   "cell_type": "markdown",
   "metadata": {},
   "source": [
    "## Overview\n",
    "\n",
    "- Teaching: 40 min\n",
    "- Exercises: 20 min\n",
    "\n",
    "### Questions\n",
    "\n",
    "- Why is the Jupyter notebook a useful tool for conducting and sharing data exploration?\n",
    "- What is \"tidy data\"?\n",
    "- What steps does one take to explore data?\n",
    "\n",
    "### Objectives\n",
    "Use the Python Pandas library in the Jupyter Notebook to:\n",
    "* Assess the structure and cleanliness of a dataset, including the size and shape of the data, and the number of variables of each type.\n",
    "* Describe findings, translate results from code to text using Markdown comments in the Jupyter Notebook, summarizing your thought process in a narrative.\n",
    "* Modify raw data to prepare a clean data set -- including copying data, removing or replacing missing and incoherent data, dropping columns, removing duplicates.\n",
    "* Assess whether data is “Tidy” and identify appropriate steps and write and  execute code to arrange it into a tidy format - including merging, reshaping, subsetting, grouping, sorting, and making appropriate new columns.\n",
    "* Identify several relevant summary measures.\n",
    "* Illustrate data in plots and determine the need for repeated or further analysis.\n",
    "* Justify these decisions in Markdown in the Jupyter Notebook."
   ]
  },
  {
   "cell_type": "markdown",
   "metadata": {},
   "source": [
    "# Setting up the notebook\n",
    "\n",
    "## About Libraries in Python\n",
    "\n",
    "A library in Python contains a set of tools (called functions) that perform tasks on our data. Importing a library is like getting a piece of lab equipment out of a storage locker and setting it up on the bench for use in a project. Once a library is imported, it can be used or called to perform many tasks.\n",
    "\n",
    "Python doesn’t load all of the libraries available to it by default. We have to add an import statement to our code in order to use library functions. To import a library, we use the syntax `import libraryName`. If we want to give the library a nickname to shorten the command, we can add `as nickNameHere`. An example of importing the Pandas library using the common nickname `pd` is below.\n",
    "\n",
    "**`import`** `pandas` **`as`** `pd`\n",
    "\n",
    "## matplotlib and other plotting libraries\n",
    "\n",
    "matplotlib is the most widely used Python library for plotting.  We can run it in the notebook using the magic command `%matplotlib inline`. If you do not use `%matplotlib inline`, your plots will be generated outside of the notebook and may be difficult to find.  See [the IPython docs](http://ipython.readthedocs.io/en/stable/interactive/plotting.html) for other IPython magics commands.\n",
    "\n",
    "In this lesson, we will only use matplotlib and Seaborn, another package that works in tandem with matplotlib to make nice graphics.  There is a whole range of graphics packages in Python, ranging from basic visualizations to fancy, interactive graphics like [Bokeh](http://bokeh.pydata.org/en/latest/) and [Plotly](https://plot.ly/python/).  \n",
    "\n",
    "We encourage you to explore on your own!  Chances are, if you can imagine a plot you'd like to make, somebody else has written a package to do it.\n",
    "\n",
    "## Markdown\n",
    "Text can be added to Jupyter Notebooks using Markdown cells. Markdown is a popular markup language that is a superset of HTML. To learn more, see [Jupyter's Markdown guide](http://jupyter-notebook.readthedocs.io/en/latest/examples/Notebook/Working%20With%20Markdown%20Cells.html) or revisit the [Reproducible Research lesson on Markdown](https://github.com/Reproducible-Science-Curriculum/introduction-RR-Jupyter/blob/master/notebooks/Navigating%20the%20notebook%20-%20instructor%20script.ipynb). \n",
    "\n"
   ]
  },
  {
   "cell_type": "markdown",
   "metadata": {},
   "source": [
    "## The Pandas Library\n",
    "\n",
    "One of the best options for working with tabular data in Python is the Python Data Analysis Library (a.k.a. Pandas). The Pandas library is built on top of the NumPy package (another Python library). Pandas provides data structures, produces high quality plots with matplotlib, and integrates nicely with other libraries that use NumPy arrays. Those familiar with spreadsheets should become comfortable with Pandas data structures."
   ]
  },
  {
   "cell_type": "code",
   "execution_count": 1,
   "metadata": {},
   "outputs": [],
   "source": [
    "import pandas as pd\n",
    "import numpy as np\n",
    "import matplotlib.pyplot as plt\n",
    "%matplotlib inline"
   ]
  },
  {
   "cell_type": "markdown",
   "metadata": {},
   "source": [
    "Each time we call a function that’s in a library, we use the syntax `LibraryName.FunctionName`. Adding the library name with a `.` before the function name tells Python where to find the function. In the example above, we have imported Pandas as `pd`. This means we don’t have to type out `pandas` each time we call a Pandas function.\n",
    "\n",
    "See this free [Pandas cheat sheet](https://www.datacamp.com/community/blog/python-pandas-cheat-sheet) from DataCamp for the most common Pandas commands. \n",
    "\n",
    "# Getting data into the notebook\n",
    "\n",
    "We will begin by locating and reading our data which are in a table format as a tab-delimited file. We will use Pandas’ `read_table` function to pull the file directly into a `DataFrame`.\n",
    "\n",
    "## What’s a `DataFrame`?\n",
    "A `DataFrame` is a 2-dimensional data structure that can store in columns data of different types (including characters, integers, floating point values, factors and more). It is similar to a spreadsheet or a SQL table or data.frame in R. A `DataFrame` always has an index (0-based). An index refers to the position of an element in the data structure.\n",
    "\n",
    "Note that we use `pd.read_table`, not just `read_table` or `pandas.read_table`, because we imported Pandas as `pd`.\n",
    "\n",
    "In our original file, the columns in the data set are separated by a TAB. We need to tell the `read_table` function in Pandas that that is the delimiter with `sep = ‘\\t’`.\n",
    "\n"
   ]
  },
  {
   "cell_type": "code",
   "execution_count": 2,
   "metadata": {},
   "outputs": [],
   "source": [
    "gapminder = pd.read_table(\"gapminderDataFiveYear_superDirty.txt\", sep = \"\\t\")"
   ]
  },
  {
   "cell_type": "markdown",
   "metadata": {},
   "source": [
    "The first thing to do when loading data into the notebook is to actually \"look\" at it.  How many rows and columns are there?  What types of variables are in it and what values can they take?\n",
    "\n",
    "There are usually too many rows to print to the screen.  By default, when you type the name of the `DataFrame` and run a cell, Pandas knows to not print the whole thing.  Instead, you will see the first and last few rows with dots in between.  A neater way to see a preview of the dataset is the `head()` method.  Calling `dataset.head()` will display the first 5 rows of the data.  You can specify how many rows you want to see as an argument, like `dataset.head(10)`.  The `tail()` method does the same with the last rows of the `DataFrame`."
   ]
  },
  {
   "cell_type": "code",
   "execution_count": null,
   "metadata": {},
   "outputs": [],
   "source": [
    "#head // to print the first few rows of the data"
   ]
  },
  {
   "cell_type": "code",
   "execution_count": 3,
   "metadata": {},
   "outputs": [
    {
     "data": {
      "text/html": [
       "<div>\n",
       "<style scoped>\n",
       "    .dataframe tbody tr th:only-of-type {\n",
       "        vertical-align: middle;\n",
       "    }\n",
       "\n",
       "    .dataframe tbody tr th {\n",
       "        vertical-align: top;\n",
       "    }\n",
       "\n",
       "    .dataframe thead th {\n",
       "        text-align: right;\n",
       "    }\n",
       "</style>\n",
       "<table border=\"1\" class=\"dataframe\">\n",
       "  <thead>\n",
       "    <tr style=\"text-align: right;\">\n",
       "      <th></th>\n",
       "      <th>year</th>\n",
       "      <th>pop</th>\n",
       "      <th>life Exp</th>\n",
       "      <th>gdpPercap</th>\n",
       "      <th>region</th>\n",
       "    </tr>\n",
       "  </thead>\n",
       "  <tbody>\n",
       "    <tr>\n",
       "      <th>0</th>\n",
       "      <td>1952.0</td>\n",
       "      <td>8425333.0</td>\n",
       "      <td>28.801</td>\n",
       "      <td>779.445314</td>\n",
       "      <td>Asia_Afghanistan</td>\n",
       "    </tr>\n",
       "    <tr>\n",
       "      <th>1</th>\n",
       "      <td>1957.0</td>\n",
       "      <td>9240934.0</td>\n",
       "      <td>30.332</td>\n",
       "      <td>820.853030</td>\n",
       "      <td>Asia_Afghanistan</td>\n",
       "    </tr>\n",
       "    <tr>\n",
       "      <th>2</th>\n",
       "      <td>1957.0</td>\n",
       "      <td>9240934.0</td>\n",
       "      <td>30.332</td>\n",
       "      <td>820.853030</td>\n",
       "      <td>Asia_Afghanistan</td>\n",
       "    </tr>\n",
       "    <tr>\n",
       "      <th>3</th>\n",
       "      <td>1962.0</td>\n",
       "      <td>10267083.0</td>\n",
       "      <td>31.997</td>\n",
       "      <td>853.100710</td>\n",
       "      <td>Asia_Afghanistan</td>\n",
       "    </tr>\n",
       "    <tr>\n",
       "      <th>4</th>\n",
       "      <td>1962.0</td>\n",
       "      <td>NaN</td>\n",
       "      <td>31.997</td>\n",
       "      <td>NaN</td>\n",
       "      <td>Asia_Afghanistan</td>\n",
       "    </tr>\n",
       "  </tbody>\n",
       "</table>\n",
       "</div>"
      ],
      "text/plain": [
       "     year         pop  life Exp   gdpPercap            region\n",
       "0  1952.0   8425333.0    28.801  779.445314  Asia_Afghanistan\n",
       "1  1957.0   9240934.0    30.332  820.853030  Asia_Afghanistan\n",
       "2  1957.0   9240934.0    30.332  820.853030  Asia_Afghanistan\n",
       "3  1962.0  10267083.0    31.997  853.100710  Asia_Afghanistan\n",
       "4  1962.0         NaN    31.997         NaN  Asia_Afghanistan"
      ]
     },
     "execution_count": 3,
     "metadata": {},
     "output_type": "execute_result"
    }
   ],
   "source": [
    "gapminder.head()"
   ]
  },
  {
   "cell_type": "code",
   "execution_count": null,
   "metadata": {
    "collapsed": true
   },
   "outputs": [],
   "source": [
    "#tail // to print the last few rows of the data"
   ]
  },
  {
   "cell_type": "code",
   "execution_count": 4,
   "metadata": {},
   "outputs": [
    {
     "data": {
      "text/html": [
       "<div>\n",
       "<style scoped>\n",
       "    .dataframe tbody tr th:only-of-type {\n",
       "        vertical-align: middle;\n",
       "    }\n",
       "\n",
       "    .dataframe tbody tr th {\n",
       "        vertical-align: top;\n",
       "    }\n",
       "\n",
       "    .dataframe thead th {\n",
       "        text-align: right;\n",
       "    }\n",
       "</style>\n",
       "<table border=\"1\" class=\"dataframe\">\n",
       "  <thead>\n",
       "    <tr style=\"text-align: right;\">\n",
       "      <th></th>\n",
       "      <th>year</th>\n",
       "      <th>pop</th>\n",
       "      <th>life Exp</th>\n",
       "      <th>gdpPercap</th>\n",
       "      <th>region</th>\n",
       "    </tr>\n",
       "  </thead>\n",
       "  <tbody>\n",
       "    <tr>\n",
       "      <th>1715</th>\n",
       "      <td>1987.0</td>\n",
       "      <td>9216418.0</td>\n",
       "      <td>62.351</td>\n",
       "      <td>706.157306</td>\n",
       "      <td>Africa_Zimbabwe</td>\n",
       "    </tr>\n",
       "    <tr>\n",
       "      <th>1716</th>\n",
       "      <td>1992.0</td>\n",
       "      <td>10704340.0</td>\n",
       "      <td>60.377</td>\n",
       "      <td>693.420786</td>\n",
       "      <td>Africa_Zimbabwe</td>\n",
       "    </tr>\n",
       "    <tr>\n",
       "      <th>1717</th>\n",
       "      <td>1997.0</td>\n",
       "      <td>11404948.0</td>\n",
       "      <td>46.809</td>\n",
       "      <td>792.449960</td>\n",
       "      <td>Africa_Zimbabwe</td>\n",
       "    </tr>\n",
       "    <tr>\n",
       "      <th>1718</th>\n",
       "      <td>2002.0</td>\n",
       "      <td>11926563.0</td>\n",
       "      <td>39.989</td>\n",
       "      <td>672.038623</td>\n",
       "      <td>Africa_Zimbabwe</td>\n",
       "    </tr>\n",
       "    <tr>\n",
       "      <th>1719</th>\n",
       "      <td>2007.0</td>\n",
       "      <td>12311143.0</td>\n",
       "      <td>43.487</td>\n",
       "      <td>469.709298</td>\n",
       "      <td>Africa_Zimbabwe</td>\n",
       "    </tr>\n",
       "  </tbody>\n",
       "</table>\n",
       "</div>"
      ],
      "text/plain": [
       "        year         pop  life Exp   gdpPercap           region\n",
       "1715  1987.0   9216418.0    62.351  706.157306  Africa_Zimbabwe\n",
       "1716  1992.0  10704340.0    60.377  693.420786  Africa_Zimbabwe\n",
       "1717  1997.0  11404948.0    46.809  792.449960  Africa_Zimbabwe\n",
       "1718  2002.0  11926563.0    39.989  672.038623  Africa_Zimbabwe\n",
       "1719  2007.0  12311143.0    43.487  469.709298  Africa_Zimbabwe"
      ]
     },
     "execution_count": 4,
     "metadata": {},
     "output_type": "execute_result"
    }
   ],
   "source": [
    "gapminder.tail()"
   ]
  },
  {
   "cell_type": "code",
   "execution_count": 6,
   "metadata": {},
   "outputs": [],
   "source": [
    "# to choose how many rows from the end "
   ]
  },
  {
   "cell_type": "code",
   "execution_count": 7,
   "metadata": {},
   "outputs": [
    {
     "data": {
      "text/html": [
       "<div>\n",
       "<style scoped>\n",
       "    .dataframe tbody tr th:only-of-type {\n",
       "        vertical-align: middle;\n",
       "    }\n",
       "\n",
       "    .dataframe tbody tr th {\n",
       "        vertical-align: top;\n",
       "    }\n",
       "\n",
       "    .dataframe thead th {\n",
       "        text-align: right;\n",
       "    }\n",
       "</style>\n",
       "<table border=\"1\" class=\"dataframe\">\n",
       "  <thead>\n",
       "    <tr style=\"text-align: right;\">\n",
       "      <th></th>\n",
       "      <th>year</th>\n",
       "      <th>pop</th>\n",
       "      <th>life Exp</th>\n",
       "      <th>gdpPercap</th>\n",
       "      <th>region</th>\n",
       "    </tr>\n",
       "  </thead>\n",
       "  <tbody>\n",
       "    <tr>\n",
       "      <th>1710</th>\n",
       "      <td>1962.0</td>\n",
       "      <td>4277736.0</td>\n",
       "      <td>52.358</td>\n",
       "      <td>527.272182</td>\n",
       "      <td>Africa_Zimbabwe</td>\n",
       "    </tr>\n",
       "    <tr>\n",
       "      <th>1711</th>\n",
       "      <td>1967.0</td>\n",
       "      <td>4995432.0</td>\n",
       "      <td>53.995</td>\n",
       "      <td>569.795071</td>\n",
       "      <td>Africa_Zimbabwe</td>\n",
       "    </tr>\n",
       "    <tr>\n",
       "      <th>1712</th>\n",
       "      <td>1972.0</td>\n",
       "      <td>5861135.0</td>\n",
       "      <td>55.635</td>\n",
       "      <td>799.362176</td>\n",
       "      <td>Africa_Zimbabwe</td>\n",
       "    </tr>\n",
       "    <tr>\n",
       "      <th>1713</th>\n",
       "      <td>1977.0</td>\n",
       "      <td>6642107.0</td>\n",
       "      <td>57.674</td>\n",
       "      <td>685.587682</td>\n",
       "      <td>Africa_Zimbabwe</td>\n",
       "    </tr>\n",
       "    <tr>\n",
       "      <th>1714</th>\n",
       "      <td>1982.0</td>\n",
       "      <td>7636524.0</td>\n",
       "      <td>60.363</td>\n",
       "      <td>788.855041</td>\n",
       "      <td>Africa_Zimbabwe</td>\n",
       "    </tr>\n",
       "    <tr>\n",
       "      <th>1715</th>\n",
       "      <td>1987.0</td>\n",
       "      <td>9216418.0</td>\n",
       "      <td>62.351</td>\n",
       "      <td>706.157306</td>\n",
       "      <td>Africa_Zimbabwe</td>\n",
       "    </tr>\n",
       "    <tr>\n",
       "      <th>1716</th>\n",
       "      <td>1992.0</td>\n",
       "      <td>10704340.0</td>\n",
       "      <td>60.377</td>\n",
       "      <td>693.420786</td>\n",
       "      <td>Africa_Zimbabwe</td>\n",
       "    </tr>\n",
       "    <tr>\n",
       "      <th>1717</th>\n",
       "      <td>1997.0</td>\n",
       "      <td>11404948.0</td>\n",
       "      <td>46.809</td>\n",
       "      <td>792.449960</td>\n",
       "      <td>Africa_Zimbabwe</td>\n",
       "    </tr>\n",
       "    <tr>\n",
       "      <th>1718</th>\n",
       "      <td>2002.0</td>\n",
       "      <td>11926563.0</td>\n",
       "      <td>39.989</td>\n",
       "      <td>672.038623</td>\n",
       "      <td>Africa_Zimbabwe</td>\n",
       "    </tr>\n",
       "    <tr>\n",
       "      <th>1719</th>\n",
       "      <td>2007.0</td>\n",
       "      <td>12311143.0</td>\n",
       "      <td>43.487</td>\n",
       "      <td>469.709298</td>\n",
       "      <td>Africa_Zimbabwe</td>\n",
       "    </tr>\n",
       "  </tbody>\n",
       "</table>\n",
       "</div>"
      ],
      "text/plain": [
       "        year         pop  life Exp   gdpPercap           region\n",
       "1710  1962.0   4277736.0    52.358  527.272182  Africa_Zimbabwe\n",
       "1711  1967.0   4995432.0    53.995  569.795071  Africa_Zimbabwe\n",
       "1712  1972.0   5861135.0    55.635  799.362176  Africa_Zimbabwe\n",
       "1713  1977.0   6642107.0    57.674  685.587682  Africa_Zimbabwe\n",
       "1714  1982.0   7636524.0    60.363  788.855041  Africa_Zimbabwe\n",
       "1715  1987.0   9216418.0    62.351  706.157306  Africa_Zimbabwe\n",
       "1716  1992.0  10704340.0    60.377  693.420786  Africa_Zimbabwe\n",
       "1717  1997.0  11404948.0    46.809  792.449960  Africa_Zimbabwe\n",
       "1718  2002.0  11926563.0    39.989  672.038623  Africa_Zimbabwe\n",
       "1719  2007.0  12311143.0    43.487  469.709298  Africa_Zimbabwe"
      ]
     },
     "execution_count": 7,
     "metadata": {},
     "output_type": "execute_result"
    }
   ],
   "source": [
    "gapminder.tail(10)"
   ]
  },
  {
   "cell_type": "code",
   "execution_count": null,
   "metadata": {},
   "outputs": [],
   "source": [
    "#gapminder // first and last rows"
   ]
  },
  {
   "cell_type": "code",
   "execution_count": 12,
   "metadata": {},
   "outputs": [
    {
     "data": {
      "text/html": [
       "<div>\n",
       "<style scoped>\n",
       "    .dataframe tbody tr th:only-of-type {\n",
       "        vertical-align: middle;\n",
       "    }\n",
       "\n",
       "    .dataframe tbody tr th {\n",
       "        vertical-align: top;\n",
       "    }\n",
       "\n",
       "    .dataframe thead th {\n",
       "        text-align: right;\n",
       "    }\n",
       "</style>\n",
       "<table border=\"1\" class=\"dataframe\">\n",
       "  <thead>\n",
       "    <tr style=\"text-align: right;\">\n",
       "      <th></th>\n",
       "      <th>year</th>\n",
       "      <th>pop</th>\n",
       "      <th>life Exp</th>\n",
       "      <th>gdpPercap</th>\n",
       "      <th>region</th>\n",
       "    </tr>\n",
       "  </thead>\n",
       "  <tbody>\n",
       "    <tr>\n",
       "      <th>0</th>\n",
       "      <td>1952.0</td>\n",
       "      <td>8425333.0</td>\n",
       "      <td>28.801</td>\n",
       "      <td>779.445314</td>\n",
       "      <td>Asia_Afghanistan</td>\n",
       "    </tr>\n",
       "    <tr>\n",
       "      <th>1</th>\n",
       "      <td>1957.0</td>\n",
       "      <td>9240934.0</td>\n",
       "      <td>30.332</td>\n",
       "      <td>820.853030</td>\n",
       "      <td>Asia_Afghanistan</td>\n",
       "    </tr>\n",
       "    <tr>\n",
       "      <th>2</th>\n",
       "      <td>1957.0</td>\n",
       "      <td>9240934.0</td>\n",
       "      <td>30.332</td>\n",
       "      <td>820.853030</td>\n",
       "      <td>Asia_Afghanistan</td>\n",
       "    </tr>\n",
       "    <tr>\n",
       "      <th>3</th>\n",
       "      <td>1962.0</td>\n",
       "      <td>10267083.0</td>\n",
       "      <td>31.997</td>\n",
       "      <td>853.100710</td>\n",
       "      <td>Asia_Afghanistan</td>\n",
       "    </tr>\n",
       "    <tr>\n",
       "      <th>4</th>\n",
       "      <td>1962.0</td>\n",
       "      <td>NaN</td>\n",
       "      <td>31.997</td>\n",
       "      <td>NaN</td>\n",
       "      <td>Asia_Afghanistan</td>\n",
       "    </tr>\n",
       "    <tr>\n",
       "      <th>...</th>\n",
       "      <td>...</td>\n",
       "      <td>...</td>\n",
       "      <td>...</td>\n",
       "      <td>...</td>\n",
       "      <td>...</td>\n",
       "    </tr>\n",
       "    <tr>\n",
       "      <th>1715</th>\n",
       "      <td>1987.0</td>\n",
       "      <td>9216418.0</td>\n",
       "      <td>62.351</td>\n",
       "      <td>706.157306</td>\n",
       "      <td>Africa_Zimbabwe</td>\n",
       "    </tr>\n",
       "    <tr>\n",
       "      <th>1716</th>\n",
       "      <td>1992.0</td>\n",
       "      <td>10704340.0</td>\n",
       "      <td>60.377</td>\n",
       "      <td>693.420786</td>\n",
       "      <td>Africa_Zimbabwe</td>\n",
       "    </tr>\n",
       "    <tr>\n",
       "      <th>1717</th>\n",
       "      <td>1997.0</td>\n",
       "      <td>11404948.0</td>\n",
       "      <td>46.809</td>\n",
       "      <td>792.449960</td>\n",
       "      <td>Africa_Zimbabwe</td>\n",
       "    </tr>\n",
       "    <tr>\n",
       "      <th>1718</th>\n",
       "      <td>2002.0</td>\n",
       "      <td>11926563.0</td>\n",
       "      <td>39.989</td>\n",
       "      <td>672.038623</td>\n",
       "      <td>Africa_Zimbabwe</td>\n",
       "    </tr>\n",
       "    <tr>\n",
       "      <th>1719</th>\n",
       "      <td>2007.0</td>\n",
       "      <td>12311143.0</td>\n",
       "      <td>43.487</td>\n",
       "      <td>469.709298</td>\n",
       "      <td>Africa_Zimbabwe</td>\n",
       "    </tr>\n",
       "  </tbody>\n",
       "</table>\n",
       "<p>1720 rows × 5 columns</p>\n",
       "</div>"
      ],
      "text/plain": [
       "        year         pop  life Exp   gdpPercap            region\n",
       "0     1952.0   8425333.0    28.801  779.445314  Asia_Afghanistan\n",
       "1     1957.0   9240934.0    30.332  820.853030  Asia_Afghanistan\n",
       "2     1957.0   9240934.0    30.332  820.853030  Asia_Afghanistan\n",
       "3     1962.0  10267083.0    31.997  853.100710  Asia_Afghanistan\n",
       "4     1962.0         NaN    31.997         NaN  Asia_Afghanistan\n",
       "...      ...         ...       ...         ...               ...\n",
       "1715  1987.0   9216418.0    62.351  706.157306   Africa_Zimbabwe\n",
       "1716  1992.0  10704340.0    60.377  693.420786   Africa_Zimbabwe\n",
       "1717  1997.0  11404948.0    46.809  792.449960   Africa_Zimbabwe\n",
       "1718  2002.0  11926563.0    39.989  672.038623   Africa_Zimbabwe\n",
       "1719  2007.0  12311143.0    43.487  469.709298   Africa_Zimbabwe\n",
       "\n",
       "[1720 rows x 5 columns]"
      ]
     },
     "execution_count": 12,
     "metadata": {},
     "output_type": "execute_result"
    }
   ],
   "source": [
    "gapminder"
   ]
  },
  {
   "cell_type": "markdown",
   "metadata": {},
   "source": [
    "Sometimes the table has too many columns to print on screen. Calling `df.columns.values` will print all the column names in an array."
   ]
  },
  {
   "cell_type": "code",
   "execution_count": null,
   "metadata": {},
   "outputs": [],
   "source": [
    "#columns"
   ]
  },
  {
   "cell_type": "code",
   "execution_count": 9,
   "metadata": {},
   "outputs": [
    {
     "data": {
      "text/plain": [
       "array(['year', 'pop', 'life Exp', 'gdpPercap', 'region'], dtype=object)"
      ]
     },
     "execution_count": 9,
     "metadata": {},
     "output_type": "execute_result"
    }
   ],
   "source": [
    "gapminder.columns.values"
   ]
  },
  {
   "cell_type": "markdown",
   "metadata": {},
   "source": [
    "# Assess the structure and cleanliness\n",
    "\n",
    "\n",
    "## How many rows and columns are in the data?\n",
    "We often want to know how many rows and columns are in the data -- what is the \"shape\" of the `DataFrame`. Shape is an attribute of the `DataFrame`. Pandas has a convenient way for getting that information by using `DataFrame.shape`  (using `DataFrame` here as a generic name for your `DataFrame`). This returns a tuple (immutable values separated by commas) representing the dimensions of the `DataFrame` (rows, columns).<p>\n",
    "To get the shape of the gapminder `DataFrame`:"
   ]
  },
  {
   "cell_type": "code",
   "execution_count": null,
   "metadata": {},
   "outputs": [],
   "source": [
    "#shape"
   ]
  },
  {
   "cell_type": "code",
   "execution_count": 14,
   "metadata": {},
   "outputs": [
    {
     "data": {
      "text/plain": [
       "(1720, 5)"
      ]
     },
     "execution_count": 14,
     "metadata": {},
     "output_type": "execute_result"
    }
   ],
   "source": [
    "gapminder.shape"
   ]
  },
  {
   "cell_type": "code",
   "execution_count": null,
   "metadata": {},
   "outputs": [],
   "source": [
    "1720 rows and 5 columns "
   ]
  },
  {
   "cell_type": "markdown",
   "metadata": {},
   "source": [
    "We can learn even more about our `DataFrame`. The `info()` method gives a few useful pieces of information, including the shape of the `DataFrame`, the variable type of each column, and the amount of memory stored.\n",
    "\n",
    "The output from `info()` displayed below shows that the fields ‘year’ and ‘pop’ (population) are represented as ‘float’ (that is: numbers with a decimal point). This is not appropriate: year and population should be integers or whole numbers. We can change the data-type with the function `astype()`. The code for `astype()` is shown below; however, we will change the data types later in this lesson."
   ]
  },
  {
   "cell_type": "code",
   "execution_count": null,
   "metadata": {},
   "outputs": [],
   "source": [
    "#info"
   ]
  },
  {
   "cell_type": "code",
   "execution_count": 15,
   "metadata": {},
   "outputs": [
    {
     "name": "stdout",
     "output_type": "stream",
     "text": [
      "<class 'pandas.core.frame.DataFrame'>\n",
      "RangeIndex: 1720 entries, 0 to 1719\n",
      "Data columns (total 5 columns):\n",
      " #   Column     Non-Null Count  Dtype  \n",
      "---  ------     --------------  -----  \n",
      " 0   year       1717 non-null   float64\n",
      " 1   pop        1715 non-null   float64\n",
      " 2   life Exp   1719 non-null   float64\n",
      " 3   gdpPercap  1718 non-null   float64\n",
      " 4   region     1720 non-null   object \n",
      "dtypes: float64(4), object(1)\n",
      "memory usage: 67.3+ KB\n"
     ]
    }
   ],
   "source": [
    "gapminder.info()"
   ]
  },
  {
   "cell_type": "markdown",
   "metadata": {},
   "source": [
    "The `describe()` method will take the numeric columns and provide a summary of their values. This is useful for getting a sense of the ranges of values and seeing if there are any unusual or suspicious numbers.\n"
   ]
  },
  {
   "cell_type": "code",
   "execution_count": null,
   "metadata": {},
   "outputs": [],
   "source": [
    "#describe"
   ]
  },
  {
   "cell_type": "code",
   "execution_count": 17,
   "metadata": {},
   "outputs": [
    {
     "data": {
      "text/html": [
       "<div>\n",
       "<style scoped>\n",
       "    .dataframe tbody tr th:only-of-type {\n",
       "        vertical-align: middle;\n",
       "    }\n",
       "\n",
       "    .dataframe tbody tr th {\n",
       "        vertical-align: top;\n",
       "    }\n",
       "\n",
       "    .dataframe thead th {\n",
       "        text-align: right;\n",
       "    }\n",
       "</style>\n",
       "<table border=\"1\" class=\"dataframe\">\n",
       "  <thead>\n",
       "    <tr style=\"text-align: right;\">\n",
       "      <th></th>\n",
       "      <th>year</th>\n",
       "      <th>pop</th>\n",
       "      <th>life Exp</th>\n",
       "      <th>gdpPercap</th>\n",
       "    </tr>\n",
       "  </thead>\n",
       "  <tbody>\n",
       "    <tr>\n",
       "      <th>count</th>\n",
       "      <td>1717.000000</td>\n",
       "      <td>1.715000e+03</td>\n",
       "      <td>1719.000000</td>\n",
       "      <td>1718.000000</td>\n",
       "    </tr>\n",
       "    <tr>\n",
       "      <th>mean</th>\n",
       "      <td>1979.449039</td>\n",
       "      <td>2.954973e+07</td>\n",
       "      <td>59.436493</td>\n",
       "      <td>7208.452200</td>\n",
       "    </tr>\n",
       "    <tr>\n",
       "      <th>std</th>\n",
       "      <td>17.228189</td>\n",
       "      <td>1.058366e+08</td>\n",
       "      <td>12.931041</td>\n",
       "      <td>9838.590984</td>\n",
       "    </tr>\n",
       "    <tr>\n",
       "      <th>min</th>\n",
       "      <td>1952.000000</td>\n",
       "      <td>6.001100e+04</td>\n",
       "      <td>23.599000</td>\n",
       "      <td>241.165876</td>\n",
       "    </tr>\n",
       "    <tr>\n",
       "      <th>25%</th>\n",
       "      <td>1967.000000</td>\n",
       "      <td>2.807799e+06</td>\n",
       "      <td>48.143000</td>\n",
       "      <td>1203.161887</td>\n",
       "    </tr>\n",
       "    <tr>\n",
       "      <th>50%</th>\n",
       "      <td>1977.000000</td>\n",
       "      <td>7.026113e+06</td>\n",
       "      <td>60.523000</td>\n",
       "      <td>3529.585686</td>\n",
       "    </tr>\n",
       "    <tr>\n",
       "      <th>75%</th>\n",
       "      <td>1992.000000</td>\n",
       "      <td>1.959366e+07</td>\n",
       "      <td>70.840500</td>\n",
       "      <td>9322.285886</td>\n",
       "    </tr>\n",
       "    <tr>\n",
       "      <th>max</th>\n",
       "      <td>2007.000000</td>\n",
       "      <td>1.318683e+09</td>\n",
       "      <td>82.603000</td>\n",
       "      <td>113523.132900</td>\n",
       "    </tr>\n",
       "  </tbody>\n",
       "</table>\n",
       "</div>"
      ],
      "text/plain": [
       "              year           pop     life Exp      gdpPercap\n",
       "count  1717.000000  1.715000e+03  1719.000000    1718.000000\n",
       "mean   1979.449039  2.954973e+07    59.436493    7208.452200\n",
       "std      17.228189  1.058366e+08    12.931041    9838.590984\n",
       "min    1952.000000  6.001100e+04    23.599000     241.165876\n",
       "25%    1967.000000  2.807799e+06    48.143000    1203.161887\n",
       "50%    1977.000000  7.026113e+06    60.523000    3529.585686\n",
       "75%    1992.000000  1.959366e+07    70.840500    9322.285886\n",
       "max    2007.000000  1.318683e+09    82.603000  113523.132900"
      ]
     },
     "execution_count": 17,
     "metadata": {},
     "output_type": "execute_result"
    }
   ],
   "source": [
    "gapminder.describe()"
   ]
  },
  {
   "cell_type": "markdown",
   "metadata": {},
   "source": [
    "The `DataFrame` function `describe()` just blindly looks at all numeric variables. We wouldn't actually want to take the mean year. Additionally, we obtain ‘NaN’ values for our quartiles. This suggests we might have missing data which we can (and will) deal with shortly when we begin to clean our data.\n",
    "\n",
    "For now, let's pull out only the columns that are truly continuous numbers (i.e. ignore the description for ‘year’). This is a preview of selecting columns from the data; we'll talk more about how to do it later in the lesson."
   ]
  },
  {
   "cell_type": "code",
   "execution_count": null,
   "metadata": {},
   "outputs": [],
   "source": [
    "#describe continuous"
   ]
  },
  {
   "cell_type": "code",
   "execution_count": 21,
   "metadata": {},
   "outputs": [
    {
     "data": {
      "text/html": [
       "<div>\n",
       "<style scoped>\n",
       "    .dataframe tbody tr th:only-of-type {\n",
       "        vertical-align: middle;\n",
       "    }\n",
       "\n",
       "    .dataframe tbody tr th {\n",
       "        vertical-align: top;\n",
       "    }\n",
       "\n",
       "    .dataframe thead th {\n",
       "        text-align: right;\n",
       "    }\n",
       "</style>\n",
       "<table border=\"1\" class=\"dataframe\">\n",
       "  <thead>\n",
       "    <tr style=\"text-align: right;\">\n",
       "      <th></th>\n",
       "      <th>year</th>\n",
       "      <th>region</th>\n",
       "    </tr>\n",
       "  </thead>\n",
       "  <tbody>\n",
       "    <tr>\n",
       "      <th>0</th>\n",
       "      <td>1952.0</td>\n",
       "      <td>Asia_Afghanistan</td>\n",
       "    </tr>\n",
       "    <tr>\n",
       "      <th>1</th>\n",
       "      <td>1957.0</td>\n",
       "      <td>Asia_Afghanistan</td>\n",
       "    </tr>\n",
       "    <tr>\n",
       "      <th>2</th>\n",
       "      <td>1957.0</td>\n",
       "      <td>Asia_Afghanistan</td>\n",
       "    </tr>\n",
       "    <tr>\n",
       "      <th>3</th>\n",
       "      <td>1962.0</td>\n",
       "      <td>Asia_Afghanistan</td>\n",
       "    </tr>\n",
       "    <tr>\n",
       "      <th>4</th>\n",
       "      <td>1962.0</td>\n",
       "      <td>Asia_Afghanistan</td>\n",
       "    </tr>\n",
       "    <tr>\n",
       "      <th>...</th>\n",
       "      <td>...</td>\n",
       "      <td>...</td>\n",
       "    </tr>\n",
       "    <tr>\n",
       "      <th>1715</th>\n",
       "      <td>1987.0</td>\n",
       "      <td>Africa_Zimbabwe</td>\n",
       "    </tr>\n",
       "    <tr>\n",
       "      <th>1716</th>\n",
       "      <td>1992.0</td>\n",
       "      <td>Africa_Zimbabwe</td>\n",
       "    </tr>\n",
       "    <tr>\n",
       "      <th>1717</th>\n",
       "      <td>1997.0</td>\n",
       "      <td>Africa_Zimbabwe</td>\n",
       "    </tr>\n",
       "    <tr>\n",
       "      <th>1718</th>\n",
       "      <td>2002.0</td>\n",
       "      <td>Africa_Zimbabwe</td>\n",
       "    </tr>\n",
       "    <tr>\n",
       "      <th>1719</th>\n",
       "      <td>2007.0</td>\n",
       "      <td>Africa_Zimbabwe</td>\n",
       "    </tr>\n",
       "  </tbody>\n",
       "</table>\n",
       "<p>1720 rows × 2 columns</p>\n",
       "</div>"
      ],
      "text/plain": [
       "        year            region\n",
       "0     1952.0  Asia_Afghanistan\n",
       "1     1957.0  Asia_Afghanistan\n",
       "2     1957.0  Asia_Afghanistan\n",
       "3     1962.0  Asia_Afghanistan\n",
       "4     1962.0  Asia_Afghanistan\n",
       "...      ...               ...\n",
       "1715  1987.0   Africa_Zimbabwe\n",
       "1716  1992.0   Africa_Zimbabwe\n",
       "1717  1997.0   Africa_Zimbabwe\n",
       "1718  2002.0   Africa_Zimbabwe\n",
       "1719  2007.0   Africa_Zimbabwe\n",
       "\n",
       "[1720 rows x 2 columns]"
      ]
     },
     "execution_count": 21,
     "metadata": {},
     "output_type": "execute_result"
    }
   ],
   "source": [
    "gapminder[['year', 'region']]"
   ]
  },
  {
   "cell_type": "code",
   "execution_count": 22,
   "metadata": {},
   "outputs": [
    {
     "data": {
      "text/html": [
       "<div>\n",
       "<style scoped>\n",
       "    .dataframe tbody tr th:only-of-type {\n",
       "        vertical-align: middle;\n",
       "    }\n",
       "\n",
       "    .dataframe tbody tr th {\n",
       "        vertical-align: top;\n",
       "    }\n",
       "\n",
       "    .dataframe thead th {\n",
       "        text-align: right;\n",
       "    }\n",
       "</style>\n",
       "<table border=\"1\" class=\"dataframe\">\n",
       "  <thead>\n",
       "    <tr style=\"text-align: right;\">\n",
       "      <th></th>\n",
       "      <th>pop</th>\n",
       "      <th>life Exp</th>\n",
       "      <th>gdpPercap</th>\n",
       "    </tr>\n",
       "  </thead>\n",
       "  <tbody>\n",
       "    <tr>\n",
       "      <th>0</th>\n",
       "      <td>8425333.0</td>\n",
       "      <td>28.801</td>\n",
       "      <td>779.445314</td>\n",
       "    </tr>\n",
       "    <tr>\n",
       "      <th>1</th>\n",
       "      <td>9240934.0</td>\n",
       "      <td>30.332</td>\n",
       "      <td>820.853030</td>\n",
       "    </tr>\n",
       "    <tr>\n",
       "      <th>2</th>\n",
       "      <td>9240934.0</td>\n",
       "      <td>30.332</td>\n",
       "      <td>820.853030</td>\n",
       "    </tr>\n",
       "    <tr>\n",
       "      <th>3</th>\n",
       "      <td>10267083.0</td>\n",
       "      <td>31.997</td>\n",
       "      <td>853.100710</td>\n",
       "    </tr>\n",
       "    <tr>\n",
       "      <th>4</th>\n",
       "      <td>NaN</td>\n",
       "      <td>31.997</td>\n",
       "      <td>NaN</td>\n",
       "    </tr>\n",
       "    <tr>\n",
       "      <th>...</th>\n",
       "      <td>...</td>\n",
       "      <td>...</td>\n",
       "      <td>...</td>\n",
       "    </tr>\n",
       "    <tr>\n",
       "      <th>1715</th>\n",
       "      <td>9216418.0</td>\n",
       "      <td>62.351</td>\n",
       "      <td>706.157306</td>\n",
       "    </tr>\n",
       "    <tr>\n",
       "      <th>1716</th>\n",
       "      <td>10704340.0</td>\n",
       "      <td>60.377</td>\n",
       "      <td>693.420786</td>\n",
       "    </tr>\n",
       "    <tr>\n",
       "      <th>1717</th>\n",
       "      <td>11404948.0</td>\n",
       "      <td>46.809</td>\n",
       "      <td>792.449960</td>\n",
       "    </tr>\n",
       "    <tr>\n",
       "      <th>1718</th>\n",
       "      <td>11926563.0</td>\n",
       "      <td>39.989</td>\n",
       "      <td>672.038623</td>\n",
       "    </tr>\n",
       "    <tr>\n",
       "      <th>1719</th>\n",
       "      <td>12311143.0</td>\n",
       "      <td>43.487</td>\n",
       "      <td>469.709298</td>\n",
       "    </tr>\n",
       "  </tbody>\n",
       "</table>\n",
       "<p>1720 rows × 3 columns</p>\n",
       "</div>"
      ],
      "text/plain": [
       "             pop  life Exp   gdpPercap\n",
       "0      8425333.0    28.801  779.445314\n",
       "1      9240934.0    30.332  820.853030\n",
       "2      9240934.0    30.332  820.853030\n",
       "3     10267083.0    31.997  853.100710\n",
       "4            NaN    31.997         NaN\n",
       "...          ...       ...         ...\n",
       "1715   9216418.0    62.351  706.157306\n",
       "1716  10704340.0    60.377  693.420786\n",
       "1717  11404948.0    46.809  792.449960\n",
       "1718  11926563.0    39.989  672.038623\n",
       "1719  12311143.0    43.487  469.709298\n",
       "\n",
       "[1720 rows x 3 columns]"
      ]
     },
     "execution_count": 22,
     "metadata": {},
     "output_type": "execute_result"
    }
   ],
   "source": [
    "gapminder[['pop', 'life Exp', 'gdpPercap']]"
   ]
  },
  {
   "cell_type": "markdown",
   "metadata": {},
   "source": [
    "We can also extract one specific variable metric at a time if we wish:"
   ]
  },
  {
   "cell_type": "code",
   "execution_count": null,
   "metadata": {},
   "outputs": [],
   "source": [
    "#min, max, mean, std, count"
   ]
  },
  {
   "cell_type": "code",
   "execution_count": 28,
   "metadata": {},
   "outputs": [
    {
     "ename": "SyntaxError",
     "evalue": "invalid syntax (<ipython-input-28-3ad8436f6a68>, line 2)",
     "output_type": "error",
     "traceback": [
      "\u001b[0;36m  File \u001b[0;32m\"<ipython-input-28-3ad8436f6a68>\"\u001b[0;36m, line \u001b[0;32m2\u001b[0m\n\u001b[0;31m    print(gapminder[life Exp]).count(mean)\u001b[0m\n\u001b[0m                         ^\u001b[0m\n\u001b[0;31mSyntaxError\u001b[0m\u001b[0;31m:\u001b[0m invalid syntax\n"
     ]
    }
   ],
   "source": [
    "#min, max, mean, std, count\n",
    "print(gapminder[life Exp]).count(mean)"
   ]
  },
  {
   "cell_type": "markdown",
   "metadata": {},
   "source": [
    "#### Values in columns"
   ]
  },
  {
   "cell_type": "markdown",
   "metadata": {},
   "source": [
    "Next, let's say you want to see all the unique values for the `region` column. One way to do this is:"
   ]
  },
  {
   "cell_type": "code",
   "execution_count": null,
   "metadata": {},
   "outputs": [],
   "source": [
    "#unique"
   ]
  },
  {
   "cell_type": "code",
   "execution_count": 27,
   "metadata": {},
   "outputs": [
    {
     "data": {
      "text/plain": [
       "array(['Asia_Afghanistan', 'Europe_Albania', 'Africa_Algeria',\n",
       "       'Africa_Angola', 'Americas_Argentina', 'Oceania_Australia',\n",
       "       'Europe_Austria', 'Asia_Bahrain', 'Asia_Bangladesh',\n",
       "       'Europe_Belgium', 'Africa_Benin', 'Americas_Bolivia',\n",
       "       'Europe_Bosnia and Herzegovina', 'Africa_Botswana',\n",
       "       'Americas_Brazil', 'Europe_Bulgaria', 'Africa_Burkina Faso',\n",
       "       'Africa_Burundi', 'Asia_Cambodia', 'Africa_Cameroon', '_Canada',\n",
       "       'Americas_Canada', 'Africa_Central African Republic',\n",
       "       'Africa_Central african republic', 'Africa_Chad', 'Americas_Chile',\n",
       "       'Asia_China', 'Asia_china', 'Americas_Colombia',\n",
       "       'Americas_Colombia    ', 'Africa_Comoros',\n",
       "       'Africa_Congo, Dem. Rep.',\n",
       "       'Africa_Democratic Republic of the Congo',\n",
       "       'Africa_Congo, Democratic Republic', 'Africa_Congo, Rep.',\n",
       "       'Americas_Costa Rica', \"Africa_Cote d'Ivoire\",\n",
       "       \"Africa_Cote d'Ivore\", 'Europe_Croatia', 'Americas_Cuba',\n",
       "       'Europe_Czech Republic', 'Europe_Denmark', 'Africa_Djibouti',\n",
       "       'Americas_Dominican Republic', 'Americas_Ecuador', 'Africa_Egypt',\n",
       "       'Americas_El Salvador', 'Africa_Equatorial Guinea',\n",
       "       'Africa_Eritrea', 'Africa_Ethiopia', 'Europe_Finland',\n",
       "       'Europe_France', 'Africa_Gabon', 'Africa_Gambia', 'Europe_Germany',\n",
       "       'Africa_Ghana', 'Europe_Greece', 'Americas_Guatemala',\n",
       "       'Africa_Guinea', 'Africa_Guinea-Bissau', 'Americas_Haiti',\n",
       "       'Americas_Honduras', 'Asia_Hong Kong, China', 'Europe_Hungary',\n",
       "       'Europe_Iceland', 'Asia_India', 'Asia_Indonesia', 'Asia_Iran',\n",
       "       'Asia_Iraq', 'Europe_Ireland', 'Asia_Israel', 'Europe_Italy',\n",
       "       'Americas_Jamaica', 'Asia_Japan', 'Asia_Jordan', '    Asia_Jordan',\n",
       "       'Africa_Kenya', '    Asia_Korea, Dem. Rep.',\n",
       "       'Asia_Korea, Dem. Rep.', 'Asia_Korea, Rep.', 'Asia_Kuwait',\n",
       "       'Asia_Lebanon', 'Africa_Lesotho', 'Africa_Liberia', 'Africa_Libya',\n",
       "       'Africa_Madagascar', 'Africa_Malawi', 'Asia_Malaysia',\n",
       "       'Africa_Mali', 'Africa_Mauritania', 'Africa_Mauritius',\n",
       "       'Americas_Mexico', 'Asia_Mongolia', 'Europe_Montenegro',\n",
       "       'Africa_Morocco', 'Africa_Mozambique', 'Asia_Myanmar',\n",
       "       'Africa_Namibia', 'Asia_Nepal', 'Europe_Netherlands',\n",
       "       'Oceania_New Zealand', 'Americas_Nicaragua', 'Africa_Niger',\n",
       "       'Africa_Nigeria', 'Europe_Norway', 'Asia_Oman', 'Asia_Pakistan',\n",
       "       'Americas_Panama', 'Americas_Paraguay', 'Americas_Peru',\n",
       "       'Asia_Philippines', 'Europe_Poland', 'Europe_Portugal',\n",
       "       'Americas_Puerto Rico', 'Africa_Reunion', 'Europe_Romania',\n",
       "       'Africa_Rwanda', 'Africa_Sao Tome and Principe',\n",
       "       'Asia_Saudi Arabia', 'Africa_Senegal', 'Europe_Serbia',\n",
       "       'Africa_Sierra Leone', 'Asia_Singapore', 'Europe_Slovak Republic',\n",
       "       'Europe_Slovenia', 'Africa_Somalia', 'Africa_South Africa',\n",
       "       'Europe_Spain', 'Asia_Sri Lanka', 'Africa_Sudan',\n",
       "       'Africa_Swaziland', 'Europe_Sweden', 'Europe_Switzerland',\n",
       "       'Asia_Syria', 'Asia_Taiwan', 'Africa_Tanzania', 'Asia_Thailand',\n",
       "       'Africa_Togo', 'Americas_Trinidad and Tobago', 'Africa_Tunisia',\n",
       "       'Europe_Turkey', 'Africa_Uganda', 'Europe_United Kingdom',\n",
       "       'Americas_United States', 'Americas_Uruguay', 'Americas_Venezuela',\n",
       "       'Asia_Vietnam', 'Asia_West Bank and Gaza', 'Asia_Yemen, Rep.',\n",
       "       'Africa_Zambia', 'Africa_Zimbabwe'], dtype=object)"
      ]
     },
     "execution_count": 27,
     "metadata": {},
     "output_type": "execute_result"
    }
   ],
   "source": [
    "pd.unique(gapminder.region)"
   ]
  },
  {
   "cell_type": "markdown",
   "metadata": {},
   "source": [
    "This output is useful, but it looks like there may be some formatting issues causing the same region to be counted more than once. Let's take it a step further and find out to be sure. \n",
    "\n",
    "As mentioned previously, the command `value_counts()` gives you a first global idea of your categorical data such as strings. In this case that is the column `region`. Run the code below."
   ]
  },
  {
   "cell_type": "code",
   "execution_count": 35,
   "metadata": {},
   "outputs": [
    {
     "ename": "SyntaxError",
     "evalue": "invalid syntax (<ipython-input-35-77cb7a3281a6>, line 6)",
     "output_type": "error",
     "traceback": [
      "\u001b[0;36m  File \u001b[0;32m\"<ipython-input-35-77cb7a3281a6>\"\u001b[0;36m, line \u001b[0;32m6\u001b[0m\n\u001b[0;31m    print(gapminder['region'].value_counts())\u001b[0m\n\u001b[0m    ^\u001b[0m\n\u001b[0;31mSyntaxError\u001b[0m\u001b[0;31m:\u001b[0m invalid syntax\n"
     ]
    }
   ],
   "source": [
    "# How many unique regions are in the data?\n",
    "# use len\n",
    "print(len(gapminder['region'].unique())\n",
    "# How many times does each unique region occur?\n",
    "# region counts\n",
    "print(gapminder['region'].value_counts())"
   ]
  },
  {
   "cell_type": "markdown",
   "metadata": {},
   "source": [
    "The table reveals some problems in our data set. The data set covers 12 years, so each ‘region’ should appear 12 times, but some regions appear more than 12 times and others fewer than 12 times. We also see inconsistencies in the region names (string variables are very susceptible to those), for instance:\n",
    "\n",
    "Asia_china\tvs. Asia_China\n",
    "\n",
    "Another type of problem we see is the various names of 'Congo'. In order to analyze this dataset appropriately we need to take care of these issues. We will fix them in the next section on data cleaning."
   ]
  },
  {
   "cell_type": "markdown",
   "metadata": {},
   "source": [
    "#### Exercises\n",
    "Are there other columns in our `DataFrame` that have categorical variables? If so, run some code to list the categories below. Save your list to a variable and count the number of unique categories using `len`."
   ]
  },
  {
   "cell_type": "code",
   "execution_count": null,
   "metadata": {},
   "outputs": [],
   "source": []
  },
  {
   "cell_type": "markdown",
   "metadata": {},
   "source": [
    "What is the outcome when you run `value_counts()`?"
   ]
  },
  {
   "cell_type": "code",
   "execution_count": null,
   "metadata": {
    "collapsed": true
   },
   "outputs": [],
   "source": []
  },
  {
   "cell_type": "markdown",
   "metadata": {},
   "source": [
    "# Data cleaning"
   ]
  },
  {
   "cell_type": "markdown",
   "metadata": {},
   "source": [
    "## Referencing objects vs copying objects\n",
    "Before we get started with cleaning our data, let's practice good data hygiene by first creating a copy of our original data set. Often, you want to leave the original data untouched.  To protect your original, you can make a copy of your data (and save it to a new `DataFrame` variable) before operating on the data or a subset of the data.  This will ensure that a new version of the original data is created and your original is preserved.\n",
    "\n",
    "###### Why this is important\n",
    "Suppose you take a subset of your `DataFrame` and store it in a new variable, like `gapminder_early = gapminder[gapminder['year'] < 1970]`.  Doing this does not actually create a new object. Instead, you have just given a name to that subset of the original data: `gapminder_early`. This subset still points to the original rows of `gapminder`.  Any changes you make to the new `DataFrame` `gapminder_early` will appear in the corresponding rows of your original `gapminder` `DataFrame` too.  \n"
   ]
  },
  {
   "cell_type": "code",
   "execution_count": 38,
   "metadata": {},
   "outputs": [
    {
     "data": {
      "text/html": [
       "<div>\n",
       "<style scoped>\n",
       "    .dataframe tbody tr th:only-of-type {\n",
       "        vertical-align: middle;\n",
       "    }\n",
       "\n",
       "    .dataframe tbody tr th {\n",
       "        vertical-align: top;\n",
       "    }\n",
       "\n",
       "    .dataframe thead th {\n",
       "        text-align: right;\n",
       "    }\n",
       "</style>\n",
       "<table border=\"1\" class=\"dataframe\">\n",
       "  <thead>\n",
       "    <tr style=\"text-align: right;\">\n",
       "      <th></th>\n",
       "      <th>year</th>\n",
       "      <th>pop</th>\n",
       "      <th>life Exp</th>\n",
       "      <th>gdpPercap</th>\n",
       "      <th>region</th>\n",
       "    </tr>\n",
       "  </thead>\n",
       "  <tbody>\n",
       "    <tr>\n",
       "      <th>0</th>\n",
       "      <td>1952.0</td>\n",
       "      <td>8425333.0</td>\n",
       "      <td>28.801</td>\n",
       "      <td>779.445314</td>\n",
       "      <td>Asia_Afghanistan</td>\n",
       "    </tr>\n",
       "    <tr>\n",
       "      <th>1</th>\n",
       "      <td>1957.0</td>\n",
       "      <td>9240934.0</td>\n",
       "      <td>30.332</td>\n",
       "      <td>820.853030</td>\n",
       "      <td>Asia_Afghanistan</td>\n",
       "    </tr>\n",
       "    <tr>\n",
       "      <th>2</th>\n",
       "      <td>1957.0</td>\n",
       "      <td>9240934.0</td>\n",
       "      <td>30.332</td>\n",
       "      <td>820.853030</td>\n",
       "      <td>Asia_Afghanistan</td>\n",
       "    </tr>\n",
       "    <tr>\n",
       "      <th>3</th>\n",
       "      <td>1962.0</td>\n",
       "      <td>10267083.0</td>\n",
       "      <td>31.997</td>\n",
       "      <td>853.100710</td>\n",
       "      <td>Asia_Afghanistan</td>\n",
       "    </tr>\n",
       "    <tr>\n",
       "      <th>4</th>\n",
       "      <td>1962.0</td>\n",
       "      <td>NaN</td>\n",
       "      <td>31.997</td>\n",
       "      <td>NaN</td>\n",
       "      <td>Asia_Afghanistan</td>\n",
       "    </tr>\n",
       "  </tbody>\n",
       "</table>\n",
       "</div>"
      ],
      "text/plain": [
       "     year         pop  life Exp   gdpPercap            region\n",
       "0  1952.0   8425333.0    28.801  779.445314  Asia_Afghanistan\n",
       "1  1957.0   9240934.0    30.332  820.853030  Asia_Afghanistan\n",
       "2  1957.0   9240934.0    30.332  820.853030  Asia_Afghanistan\n",
       "3  1962.0  10267083.0    31.997  853.100710  Asia_Afghanistan\n",
       "4  1962.0         NaN    31.997         NaN  Asia_Afghanistan"
      ]
     },
     "execution_count": 38,
     "metadata": {},
     "output_type": "execute_result"
    }
   ],
   "source": [
    "gapminder = pd.read_table(\"gapminderDataFiveYear_superDirty.txt\", sep = \"\\t\")\n",
    "gapminder_copy = gapminder.copy()\n",
    "gapminder_copy.head()"
   ]
  },
  {
   "cell_type": "markdown",
   "metadata": {},
   "source": [
    "## Handling Missing Data\n",
    "\n",
    "Missing data (often denoted as 'NaN'- not a number- in Pandas, or as 'null') is an important issue to handle because Pandas cannot compute on rows or columns with missing data. 'NaN' or 'null' does not mean the value at that position is zero, it means that there is no information at that position. Ignoring missing data doesn't make it go away. There are different ways of dealing with it which include:\n",
    "\n",
    "* analyzing only the available data (i.e. ignore the missing data)\n",
    "* input the missing data with replacement values and treating these as though they were observed\n",
    "* input the missing data and account for the fact that these were inputed with uncertainty (ex: create a new boolean variable so you know that these values were not actually observed)\n",
    "* use statistical models to allow for missing data--make assumptions about their relationships with the available data as necessary\n",
    "\n",
    "For our purposes with the dirty gapminder data set, we know our missing data is excess (and unnecessary) and we are going to choose to analyze only the available data. To do this, we will simply remove rows with missing values.\n",
    "\n",
    "This is incredibly easy to do because Pandas allows you to either remove all instances with null data or replace them with a particular value.\n",
    "\n",
    "`df = df.dropna()` drops rows with any column having NA/null data.  `df = df.fillna(value)` replaces all NA/null data with the argument `value`.\n",
    "\n",
    "For more fine-grained control of which rows (or columns) to drop, you can use `how` or `thresh`. These are more advanced topics and are not covered in this lesson; you are encouraged to explore them on your own."
   ]
  },
  {
   "cell_type": "code",
   "execution_count": 40,
   "metadata": {},
   "outputs": [
    {
     "name": "stdout",
     "output_type": "stream",
     "text": [
      "     year         pop  life Exp   gdpPercap            region\n",
      "0  1952.0   8425333.0    28.801  779.445314  Asia_Afghanistan\n",
      "1  1957.0   9240934.0    30.332  820.853030  Asia_Afghanistan\n",
      "2  1957.0   9240934.0    30.332  820.853030  Asia_Afghanistan\n",
      "3  1962.0  10267083.0    31.997  853.100710  Asia_Afghanistan\n",
      "5  1967.0  11537966.0    34.020  836.197138  Asia_Afghanistan\n",
      "     year         pop  life Exp   gdpPercap            region\n",
      "0  1952.0   8425333.0    28.801  779.445314  Asia_Afghanistan\n",
      "1  1957.0   9240934.0    30.332  820.853030  Asia_Afghanistan\n",
      "2  1957.0   9240934.0    30.332  820.853030  Asia_Afghanistan\n",
      "3  1962.0  10267083.0    31.997  853.100710  Asia_Afghanistan\n",
      "5  1967.0  11537966.0    34.020  836.197138  Asia_Afghanistan\n"
     ]
    }
   ],
   "source": [
    "# drop na\n",
    "print(gapminder_copy.head())\n",
    "gapminder_copy = gapminder_copy.dropna()\n",
    "print(gapminder_copy.head())"
   ]
  },
  {
   "cell_type": "code",
   "execution_count": 41,
   "metadata": {},
   "outputs": [
    {
     "data": {
      "text/plain": [
       "(1720, 5)"
      ]
     },
     "execution_count": 41,
     "metadata": {},
     "output_type": "execute_result"
    }
   ],
   "source": [
    "gapminder.shape"
   ]
  },
  {
   "cell_type": "code",
   "execution_count": 42,
   "metadata": {},
   "outputs": [
    {
     "data": {
      "text/plain": [
       "(1712, 5)"
      ]
     },
     "execution_count": 42,
     "metadata": {},
     "output_type": "execute_result"
    }
   ],
   "source": [
    "gapminder_copy.shape"
   ]
  },
  {
   "cell_type": "markdown",
   "metadata": {},
   "source": [
    "## Changing Data Types\n",
    "We can change the data-type with the function `astype()`. The code for `astype()` is shown below."
   ]
  },
  {
   "cell_type": "code",
   "execution_count": 44,
   "metadata": {},
   "outputs": [
    {
     "name": "stdout",
     "output_type": "stream",
     "text": [
      "<class 'pandas.core.frame.DataFrame'>\n",
      "Int64Index: 1712 entries, 0 to 1719\n",
      "Data columns (total 5 columns):\n",
      " #   Column     Non-Null Count  Dtype  \n",
      "---  ------     --------------  -----  \n",
      " 0   year       1712 non-null   int64  \n",
      " 1   pop        1712 non-null   int64  \n",
      " 2   life Exp   1712 non-null   float64\n",
      " 3   gdpPercap  1712 non-null   float64\n",
      " 4   region     1712 non-null   object \n",
      "dtypes: float64(2), int64(2), object(1)\n",
      "memory usage: 80.2+ KB\n"
     ]
    }
   ],
   "source": [
    "#astype()\n",
    "gapminder_copy['year'] = gapminder_copy['year'].astype(int)\n",
    "gapminder_copy['pop'] = gapminder_copy['pop'].astype(int)\n",
    "gapminder_copy.info()"
   ]
  },
  {
   "cell_type": "markdown",
   "metadata": {},
   "source": [
    "## Handling (Unwanted) Repetitive Data\n",
    "You can identify which observations are duplicates.\n",
    "The call `df.duplicated()` will return boolean values for each row in the `DataFrame` telling you whether or not a row is repeated.\n",
    "\n",
    "In cases where you don’t want repeated values (we wouldn’t--we only want each country to be represented once for every relevant year), you can easily drop such duplicate rows with the call `df.drop_duplicates()`."
   ]
  },
  {
   "cell_type": "code",
   "execution_count": 45,
   "metadata": {},
   "outputs": [
    {
     "data": {
      "text/plain": [
       "0       False\n",
       "1       False\n",
       "2        True\n",
       "3       False\n",
       "5       False\n",
       "        ...  \n",
       "1715    False\n",
       "1716    False\n",
       "1717    False\n",
       "1718    False\n",
       "1719    False\n",
       "Length: 1712, dtype: bool"
      ]
     },
     "execution_count": 45,
     "metadata": {},
     "output_type": "execute_result"
    }
   ],
   "source": [
    "# duplicated() #shows we have a repetition within the first __ rows\n",
    "gapminder_copy.duplicated()"
   ]
  },
  {
   "cell_type": "code",
   "execution_count": 46,
   "metadata": {},
   "outputs": [
    {
     "data": {
      "text/plain": [
       "0    False\n",
       "1    False\n",
       "2     True\n",
       "3    False\n",
       "5    False\n",
       "dtype: bool"
      ]
     },
     "execution_count": 46,
     "metadata": {},
     "output_type": "execute_result"
    }
   ],
   "source": [
    "gapminder_copy.duplicated().head()"
   ]
  },
  {
   "cell_type": "markdown",
   "metadata": {},
   "source": [
    "Let's look at the first five rows of our data set again (remember we removed the NaNs):"
   ]
  },
  {
   "cell_type": "code",
   "execution_count": 51,
   "metadata": {},
   "outputs": [
    {
     "data": {
      "text/html": [
       "<div>\n",
       "<style scoped>\n",
       "    .dataframe tbody tr th:only-of-type {\n",
       "        vertical-align: middle;\n",
       "    }\n",
       "\n",
       "    .dataframe tbody tr th {\n",
       "        vertical-align: top;\n",
       "    }\n",
       "\n",
       "    .dataframe thead th {\n",
       "        text-align: right;\n",
       "    }\n",
       "</style>\n",
       "<table border=\"1\" class=\"dataframe\">\n",
       "  <thead>\n",
       "    <tr style=\"text-align: right;\">\n",
       "      <th></th>\n",
       "      <th>year</th>\n",
       "      <th>pop</th>\n",
       "      <th>life Exp</th>\n",
       "      <th>gdpPercap</th>\n",
       "      <th>region</th>\n",
       "    </tr>\n",
       "  </thead>\n",
       "  <tbody>\n",
       "    <tr>\n",
       "      <th>0</th>\n",
       "      <td>1952</td>\n",
       "      <td>8425333</td>\n",
       "      <td>28.801</td>\n",
       "      <td>779.445314</td>\n",
       "      <td>Asia_Afghanistan</td>\n",
       "    </tr>\n",
       "    <tr>\n",
       "      <th>1</th>\n",
       "      <td>1957</td>\n",
       "      <td>9240934</td>\n",
       "      <td>30.332</td>\n",
       "      <td>820.853030</td>\n",
       "      <td>Asia_Afghanistan</td>\n",
       "    </tr>\n",
       "    <tr>\n",
       "      <th>3</th>\n",
       "      <td>1962</td>\n",
       "      <td>10267083</td>\n",
       "      <td>31.997</td>\n",
       "      <td>853.100710</td>\n",
       "      <td>Asia_Afghanistan</td>\n",
       "    </tr>\n",
       "    <tr>\n",
       "      <th>5</th>\n",
       "      <td>1967</td>\n",
       "      <td>11537966</td>\n",
       "      <td>34.020</td>\n",
       "      <td>836.197138</td>\n",
       "      <td>Asia_Afghanistan</td>\n",
       "    </tr>\n",
       "    <tr>\n",
       "      <th>6</th>\n",
       "      <td>1972</td>\n",
       "      <td>13079460</td>\n",
       "      <td>36.088</td>\n",
       "      <td>739.981106</td>\n",
       "      <td>Asia_Afghanistan</td>\n",
       "    </tr>\n",
       "  </tbody>\n",
       "</table>\n",
       "</div>"
      ],
      "text/plain": [
       "   year       pop  life Exp   gdpPercap            region\n",
       "0  1952   8425333    28.801  779.445314  Asia_Afghanistan\n",
       "1  1957   9240934    30.332  820.853030  Asia_Afghanistan\n",
       "3  1962  10267083    31.997  853.100710  Asia_Afghanistan\n",
       "5  1967  11537966    34.020  836.197138  Asia_Afghanistan\n",
       "6  1972  13079460    36.088  739.981106  Asia_Afghanistan"
      ]
     },
     "execution_count": 51,
     "metadata": {},
     "output_type": "execute_result"
    }
   ],
   "source": [
    "# How do we look at the first 5 rows?\n",
    "gapminder_copy = gapminder_copy.drop_duplicates()\n",
    "gapminder_copy.head()"
   ]
  },
  {
   "cell_type": "markdown",
   "metadata": {},
   "source": [
    "Our statement from above is correct, rows 1 & 2 are duplicated. Let's fix that:"
   ]
  },
  {
   "cell_type": "code",
   "execution_count": null,
   "metadata": {},
   "outputs": [],
   "source": [
    "# df.drop_duplicates()"
   ]
  },
  {
   "cell_type": "markdown",
   "metadata": {},
   "source": [
    "### Reindexing with `reset_index()`\n",
    "Now we have 1704 rows, but our indexes are off because we removed duplicate rows. We can reset our indices easily with the call `reset_index(drop=True)`. Remember, Python is 0-indexed so our indices will be valued 0-1703.\n",
    "\n",
    "The concept of reindexing is important. When we removed some of the messier, unwanted data, we had \"gaps\" in our index values. By correcting this, we can improve our search functionality and our ability to perform iterative functions on our cleaned data set."
   ]
  },
  {
   "cell_type": "code",
   "execution_count": 53,
   "metadata": {},
   "outputs": [
    {
     "data": {
      "text/html": [
       "<div>\n",
       "<style scoped>\n",
       "    .dataframe tbody tr th:only-of-type {\n",
       "        vertical-align: middle;\n",
       "    }\n",
       "\n",
       "    .dataframe tbody tr th {\n",
       "        vertical-align: top;\n",
       "    }\n",
       "\n",
       "    .dataframe thead th {\n",
       "        text-align: right;\n",
       "    }\n",
       "</style>\n",
       "<table border=\"1\" class=\"dataframe\">\n",
       "  <thead>\n",
       "    <tr style=\"text-align: right;\">\n",
       "      <th></th>\n",
       "      <th>year</th>\n",
       "      <th>pop</th>\n",
       "      <th>life Exp</th>\n",
       "      <th>gdpPercap</th>\n",
       "      <th>region</th>\n",
       "    </tr>\n",
       "  </thead>\n",
       "  <tbody>\n",
       "    <tr>\n",
       "      <th>0</th>\n",
       "      <td>1952</td>\n",
       "      <td>8425333</td>\n",
       "      <td>28.801</td>\n",
       "      <td>779.445314</td>\n",
       "      <td>Asia_Afghanistan</td>\n",
       "    </tr>\n",
       "    <tr>\n",
       "      <th>1</th>\n",
       "      <td>1957</td>\n",
       "      <td>9240934</td>\n",
       "      <td>30.332</td>\n",
       "      <td>820.853030</td>\n",
       "      <td>Asia_Afghanistan</td>\n",
       "    </tr>\n",
       "    <tr>\n",
       "      <th>2</th>\n",
       "      <td>1962</td>\n",
       "      <td>10267083</td>\n",
       "      <td>31.997</td>\n",
       "      <td>853.100710</td>\n",
       "      <td>Asia_Afghanistan</td>\n",
       "    </tr>\n",
       "    <tr>\n",
       "      <th>3</th>\n",
       "      <td>1967</td>\n",
       "      <td>11537966</td>\n",
       "      <td>34.020</td>\n",
       "      <td>836.197138</td>\n",
       "      <td>Asia_Afghanistan</td>\n",
       "    </tr>\n",
       "    <tr>\n",
       "      <th>4</th>\n",
       "      <td>1972</td>\n",
       "      <td>13079460</td>\n",
       "      <td>36.088</td>\n",
       "      <td>739.981106</td>\n",
       "      <td>Asia_Afghanistan</td>\n",
       "    </tr>\n",
       "  </tbody>\n",
       "</table>\n",
       "</div>"
      ],
      "text/plain": [
       "   year       pop  life Exp   gdpPercap            region\n",
       "0  1952   8425333    28.801  779.445314  Asia_Afghanistan\n",
       "1  1957   9240934    30.332  820.853030  Asia_Afghanistan\n",
       "2  1962  10267083    31.997  853.100710  Asia_Afghanistan\n",
       "3  1967  11537966    34.020  836.197138  Asia_Afghanistan\n",
       "4  1972  13079460    36.088  739.981106  Asia_Afghanistan"
      ]
     },
     "execution_count": 53,
     "metadata": {},
     "output_type": "execute_result"
    }
   ],
   "source": [
    "# reset_index()\n",
    "gapminder_copy=gapminder_copy.reset_index(drop=True)\n",
    "gapminder_copy.head()"
   ]
  },
  {
   "cell_type": "markdown",
   "metadata": {},
   "source": [
    "\n",
    "## Handling Inconsistent Data\n",
    "\n",
    "The `region` column is a bit too messy for what we'd like to do.\n",
    "The `value_counts()` operation above revealed some issues that we can solve with several different techniques.\n",
    "\n",
    "### String manipulations\n",
    "\n",
    "Common problems with string variables are leading and trailing white space and upper case vs. lower case in the same data set.\n",
    "\n",
    "The following three commands remove all such lingering spaces (left and right) and put everything in lowercase. If you prefer, the three commands can be written in one single line (which is a concept called chaining). "
   ]
  },
  {
   "cell_type": "code",
   "execution_count": 54,
   "metadata": {},
   "outputs": [
    {
     "data": {
      "text/plain": [
       "asia_west bank and gaza                    12\n",
       "americas_trinidad and tobago               12\n",
       "africa_ghana                               12\n",
       "europe_poland                              12\n",
       "americas_peru                              12\n",
       "                                           ..\n",
       "americas_canada                             9\n",
       "_canada                                     3\n",
       "africa_democratic republic of the congo     1\n",
       "africa_cote d'ivore                         1\n",
       "africa_congo, democratic republic           1\n",
       "Name: region, Length: 146, dtype: int64"
      ]
     },
     "execution_count": 54,
     "metadata": {},
     "output_type": "execute_result"
    }
   ],
   "source": [
    "gapminder_copy['region'] = gapminder_copy['region'].str.lstrip() # Strip white space on left\n",
    "gapminder_copy['region'] = gapminder_copy['region'].str.rstrip() # Strip white space on right\n",
    "gapminder_copy['region'] = gapminder_copy['region'].str.lower() # Convert to lowercase\n",
    "gapminder_copy['region'].value_counts() # How many times does each unique region occur?\n",
    "\n",
    "# We could have done this in one line!\n",
    "# gapminder_copy['region'] = gapminder_copy['region'].str.lstrip().str.rstrip().str.lower()"
   ]
  },
  {
   "cell_type": "code",
   "execution_count": 58,
   "metadata": {},
   "outputs": [
    {
     "data": {
      "text/plain": [
       "asia_west bank and gaza                    12\n",
       "americas_trinidad and tobago               12\n",
       "africa_ghana                               12\n",
       "europe_poland                              12\n",
       "americas_peru                              12\n",
       "                                           ..\n",
       "americas_canada                             9\n",
       "_canada                                     3\n",
       "africa_democratic republic of the congo     1\n",
       "africa_cote d'ivore                         1\n",
       "africa_congo, democratic republic           1\n",
       "Name: region, Length: 146, dtype: int64"
      ]
     },
     "execution_count": 58,
     "metadata": {},
     "output_type": "execute_result"
    }
   ],
   "source": [
    "gapminder_copy['region'] = gapminder_copy['region'].str.lstrip().str.rstrip().str.lower()\n",
    "gapminder_copy['region'].value_counts()"
   ]
  },
  {
   "cell_type": "markdown",
   "metadata": {},
   "source": [
    "### regex + `replace()`\n",
    "\n",
    "A regular expression, a.k.a. regex, is a sequence of characters that define a search pattern. In a regular expression, the symbol “*” matches the preceding character 0 or more times, whereas “+” matches the preceding character 1 or more times. “.” matches any single character. Writing “x|y” means to match either ‘x’ or ‘y’.\n",
    "\n",
    "For more regex shortcuts (cheatsheet): https://www.shortcutfoo.com/app/dojos/regex/cheatsheet\n",
    "\n",
    "To play \"regex golf,\" check out this [tutorial by Peter Norvig](https://www.oreilly.com/learning/regex-golf-with-peter-norvig) (you may need an O'Reilly or social media account to play).\n",
    "\n",
    "Pandas allows you to use `regex` in its `replace()` function -- when a regex term is found in an element, the element is then replaced with the specified replacement term. In order for it to appropriately correct elements, both regex and inplace variables need to be set to `True` (as their defaults are False). This ensures that the initial input string is read as a regular expression and that the elements will be modified in place.\n",
    "\n",
    "For more documentation on the replace method: http://pandas.pydata.org/pandas-docs/stable/generated/pandas.DataFrame.replace.html\n",
    "\n",
    "Here's an incorrect regex example: we create a temporary `DataFrame` in which a regex pulls all values that contain the term “congo”. Unfortunately, this creates 24 instances of the Democratic Republic of the Congo -- this is an error in our cleaning! We can revert back to the non-temporary `DataFrame` and correctly modify our regex to isolate only the Democratic Republic instances (as opposed to including the Republic as well)."
   ]
  },
  {
   "cell_type": "code",
   "execution_count": 59,
   "metadata": {},
   "outputs": [
    {
     "data": {
      "text/plain": [
       "africa_dem rep congo       24\n",
       "asia_west bank and gaza    12\n",
       "europe_slovenia            12\n",
       "americas_peru              12\n",
       "asia_korea, rep.           12\n",
       "                           ..\n",
       "africa_cameroon            12\n",
       "africa_cote d'ivoire       11\n",
       "americas_canada             9\n",
       "_canada                     3\n",
       "africa_cote d'ivore         1\n",
       "Name: region, Length: 143, dtype: int64"
      ]
     },
     "execution_count": 59,
     "metadata": {},
     "output_type": "execute_result"
    }
   ],
   "source": [
    "# This gives a problem -- 24 values of the congo!\n",
    "temp = gapminder_copy['region'].replace(\".*congo.*\", \"africa_dem rep congo\", regex=True)\n",
    "temp.value_counts()"
   ]
  },
  {
   "cell_type": "code",
   "execution_count": 61,
   "metadata": {},
   "outputs": [
    {
     "data": {
      "text/html": [
       "<div>\n",
       "<style scoped>\n",
       "    .dataframe tbody tr th:only-of-type {\n",
       "        vertical-align: middle;\n",
       "    }\n",
       "\n",
       "    .dataframe tbody tr th {\n",
       "        vertical-align: top;\n",
       "    }\n",
       "\n",
       "    .dataframe thead th {\n",
       "        text-align: right;\n",
       "    }\n",
       "</style>\n",
       "<table border=\"1\" class=\"dataframe\">\n",
       "  <thead>\n",
       "    <tr style=\"text-align: right;\">\n",
       "      <th></th>\n",
       "      <th>year</th>\n",
       "      <th>pop</th>\n",
       "      <th>life Exp</th>\n",
       "      <th>gdpPercap</th>\n",
       "      <th>region</th>\n",
       "    </tr>\n",
       "  </thead>\n",
       "  <tbody>\n",
       "    <tr>\n",
       "      <th>324</th>\n",
       "      <td>1952</td>\n",
       "      <td>14100005</td>\n",
       "      <td>39.143</td>\n",
       "      <td>780.542326</td>\n",
       "      <td>africa_congo, dem. rep.</td>\n",
       "    </tr>\n",
       "    <tr>\n",
       "      <th>325</th>\n",
       "      <td>1957</td>\n",
       "      <td>15577932</td>\n",
       "      <td>40.652</td>\n",
       "      <td>905.860230</td>\n",
       "      <td>africa_congo, dem. rep.</td>\n",
       "    </tr>\n",
       "    <tr>\n",
       "      <th>326</th>\n",
       "      <td>1962</td>\n",
       "      <td>17486434</td>\n",
       "      <td>42.122</td>\n",
       "      <td>896.314634</td>\n",
       "      <td>africa_congo, dem. rep.</td>\n",
       "    </tr>\n",
       "    <tr>\n",
       "      <th>327</th>\n",
       "      <td>1967</td>\n",
       "      <td>19941073</td>\n",
       "      <td>44.056</td>\n",
       "      <td>861.593242</td>\n",
       "      <td>africa_congo, dem. rep.</td>\n",
       "    </tr>\n",
       "    <tr>\n",
       "      <th>328</th>\n",
       "      <td>1972</td>\n",
       "      <td>23007669</td>\n",
       "      <td>45.989</td>\n",
       "      <td>904.896068</td>\n",
       "      <td>africa_democratic republic of the congo</td>\n",
       "    </tr>\n",
       "    <tr>\n",
       "      <th>329</th>\n",
       "      <td>1977</td>\n",
       "      <td>26480870</td>\n",
       "      <td>47.804</td>\n",
       "      <td>795.757282</td>\n",
       "      <td>africa_congo, dem. rep.</td>\n",
       "    </tr>\n",
       "    <tr>\n",
       "      <th>330</th>\n",
       "      <td>1982</td>\n",
       "      <td>30646495</td>\n",
       "      <td>47.784</td>\n",
       "      <td>673.747818</td>\n",
       "      <td>africa_congo, dem. rep.</td>\n",
       "    </tr>\n",
       "    <tr>\n",
       "      <th>331</th>\n",
       "      <td>1987</td>\n",
       "      <td>35481645</td>\n",
       "      <td>47.412</td>\n",
       "      <td>672.774812</td>\n",
       "      <td>africa_congo, dem. rep.</td>\n",
       "    </tr>\n",
       "    <tr>\n",
       "      <th>332</th>\n",
       "      <td>1992</td>\n",
       "      <td>41672143</td>\n",
       "      <td>45.548</td>\n",
       "      <td>457.719181</td>\n",
       "      <td>africa_congo, dem. rep.</td>\n",
       "    </tr>\n",
       "    <tr>\n",
       "      <th>333</th>\n",
       "      <td>1997</td>\n",
       "      <td>47798986</td>\n",
       "      <td>42.587</td>\n",
       "      <td>312.188423</td>\n",
       "      <td>africa_congo, democratic republic</td>\n",
       "    </tr>\n",
       "    <tr>\n",
       "      <th>334</th>\n",
       "      <td>2002</td>\n",
       "      <td>55379852</td>\n",
       "      <td>44.966</td>\n",
       "      <td>241.165876</td>\n",
       "      <td>africa_congo, dem. rep.</td>\n",
       "    </tr>\n",
       "    <tr>\n",
       "      <th>335</th>\n",
       "      <td>2007</td>\n",
       "      <td>64606759</td>\n",
       "      <td>46.462</td>\n",
       "      <td>277.551859</td>\n",
       "      <td>africa_congo, dem. rep.</td>\n",
       "    </tr>\n",
       "    <tr>\n",
       "      <th>336</th>\n",
       "      <td>1952</td>\n",
       "      <td>854885</td>\n",
       "      <td>42.111</td>\n",
       "      <td>2125.621418</td>\n",
       "      <td>africa_congo, rep.</td>\n",
       "    </tr>\n",
       "    <tr>\n",
       "      <th>337</th>\n",
       "      <td>1957</td>\n",
       "      <td>940458</td>\n",
       "      <td>45.053</td>\n",
       "      <td>2315.056572</td>\n",
       "      <td>africa_congo, rep.</td>\n",
       "    </tr>\n",
       "    <tr>\n",
       "      <th>338</th>\n",
       "      <td>1962</td>\n",
       "      <td>1047924</td>\n",
       "      <td>48.435</td>\n",
       "      <td>2464.783157</td>\n",
       "      <td>africa_congo, rep.</td>\n",
       "    </tr>\n",
       "    <tr>\n",
       "      <th>339</th>\n",
       "      <td>1967</td>\n",
       "      <td>1179760</td>\n",
       "      <td>52.040</td>\n",
       "      <td>2677.939642</td>\n",
       "      <td>africa_congo, rep.</td>\n",
       "    </tr>\n",
       "    <tr>\n",
       "      <th>340</th>\n",
       "      <td>1972</td>\n",
       "      <td>1340458</td>\n",
       "      <td>54.907</td>\n",
       "      <td>3213.152683</td>\n",
       "      <td>africa_congo, rep.</td>\n",
       "    </tr>\n",
       "    <tr>\n",
       "      <th>341</th>\n",
       "      <td>1977</td>\n",
       "      <td>1536769</td>\n",
       "      <td>55.625</td>\n",
       "      <td>3259.178978</td>\n",
       "      <td>africa_congo, rep.</td>\n",
       "    </tr>\n",
       "    <tr>\n",
       "      <th>342</th>\n",
       "      <td>1982</td>\n",
       "      <td>1774735</td>\n",
       "      <td>56.695</td>\n",
       "      <td>4879.507522</td>\n",
       "      <td>africa_congo, rep.</td>\n",
       "    </tr>\n",
       "    <tr>\n",
       "      <th>343</th>\n",
       "      <td>1987</td>\n",
       "      <td>2064095</td>\n",
       "      <td>57.470</td>\n",
       "      <td>4201.194937</td>\n",
       "      <td>africa_congo, rep.</td>\n",
       "    </tr>\n",
       "    <tr>\n",
       "      <th>344</th>\n",
       "      <td>1992</td>\n",
       "      <td>2409073</td>\n",
       "      <td>56.433</td>\n",
       "      <td>4016.239529</td>\n",
       "      <td>africa_congo, rep.</td>\n",
       "    </tr>\n",
       "    <tr>\n",
       "      <th>345</th>\n",
       "      <td>1997</td>\n",
       "      <td>2800947</td>\n",
       "      <td>52.962</td>\n",
       "      <td>3484.164376</td>\n",
       "      <td>africa_congo, rep.</td>\n",
       "    </tr>\n",
       "    <tr>\n",
       "      <th>346</th>\n",
       "      <td>2002</td>\n",
       "      <td>3328795</td>\n",
       "      <td>52.970</td>\n",
       "      <td>3484.061970</td>\n",
       "      <td>africa_congo, rep.</td>\n",
       "    </tr>\n",
       "    <tr>\n",
       "      <th>347</th>\n",
       "      <td>2007</td>\n",
       "      <td>3800610</td>\n",
       "      <td>55.322</td>\n",
       "      <td>3632.557798</td>\n",
       "      <td>africa_congo, rep.</td>\n",
       "    </tr>\n",
       "  </tbody>\n",
       "</table>\n",
       "</div>"
      ],
      "text/plain": [
       "     year       pop  life Exp    gdpPercap  \\\n",
       "324  1952  14100005    39.143   780.542326   \n",
       "325  1957  15577932    40.652   905.860230   \n",
       "326  1962  17486434    42.122   896.314634   \n",
       "327  1967  19941073    44.056   861.593242   \n",
       "328  1972  23007669    45.989   904.896068   \n",
       "329  1977  26480870    47.804   795.757282   \n",
       "330  1982  30646495    47.784   673.747818   \n",
       "331  1987  35481645    47.412   672.774812   \n",
       "332  1992  41672143    45.548   457.719181   \n",
       "333  1997  47798986    42.587   312.188423   \n",
       "334  2002  55379852    44.966   241.165876   \n",
       "335  2007  64606759    46.462   277.551859   \n",
       "336  1952    854885    42.111  2125.621418   \n",
       "337  1957    940458    45.053  2315.056572   \n",
       "338  1962   1047924    48.435  2464.783157   \n",
       "339  1967   1179760    52.040  2677.939642   \n",
       "340  1972   1340458    54.907  3213.152683   \n",
       "341  1977   1536769    55.625  3259.178978   \n",
       "342  1982   1774735    56.695  4879.507522   \n",
       "343  1987   2064095    57.470  4201.194937   \n",
       "344  1992   2409073    56.433  4016.239529   \n",
       "345  1997   2800947    52.962  3484.164376   \n",
       "346  2002   3328795    52.970  3484.061970   \n",
       "347  2007   3800610    55.322  3632.557798   \n",
       "\n",
       "                                      region  \n",
       "324                  africa_congo, dem. rep.  \n",
       "325                  africa_congo, dem. rep.  \n",
       "326                  africa_congo, dem. rep.  \n",
       "327                  africa_congo, dem. rep.  \n",
       "328  africa_democratic republic of the congo  \n",
       "329                  africa_congo, dem. rep.  \n",
       "330                  africa_congo, dem. rep.  \n",
       "331                  africa_congo, dem. rep.  \n",
       "332                  africa_congo, dem. rep.  \n",
       "333        africa_congo, democratic republic  \n",
       "334                  africa_congo, dem. rep.  \n",
       "335                  africa_congo, dem. rep.  \n",
       "336                       africa_congo, rep.  \n",
       "337                       africa_congo, rep.  \n",
       "338                       africa_congo, rep.  \n",
       "339                       africa_congo, rep.  \n",
       "340                       africa_congo, rep.  \n",
       "341                       africa_congo, rep.  \n",
       "342                       africa_congo, rep.  \n",
       "343                       africa_congo, rep.  \n",
       "344                       africa_congo, rep.  \n",
       "345                       africa_congo, rep.  \n",
       "346                       africa_congo, rep.  \n",
       "347                       africa_congo, rep.  "
      ]
     },
     "execution_count": 61,
     "metadata": {},
     "output_type": "execute_result"
    }
   ],
   "source": [
    "# What happened? This shows all the rows that have congo in the name.\n",
    "gapminder_copy[gapminder_copy[\"region\"].str.contains('congo')]"
   ]
  },
  {
   "cell_type": "markdown",
   "metadata": {},
   "source": [
    "### Using regex to correctly consolidate the Congo regions...\n",
    "\n",
    "As noted above, regular expressions (often simply \"regex\") provide a powerful \n",
    "tool for fixing errors that arise in strings. In order to correctly label the \n",
    "two different countries that include the word \"congo\", we need to design and\n",
    "use (via `pd.df.replace()`) a regex that correctly differentiates between the\n",
    "two countries.\n",
    "\n",
    "Recall that the \".\" is the wildcard (matching any single character); combining \n",
    "this with \"*\" allows us to match any number of single characters an unspecified \n",
    "number of times. By combining these characters with substrings corresponding to\n",
    "variations in the naming of the Democratic Republic of the Congo, we can\n",
    "correctly normalize the name.\n",
    "\n",
    "If you feel that the use of regex is not particularly straightforward, you are\n",
    "correct -- appropriately using these tools takes a great deal of time to master.\n",
    "When designing regex for these sorts of tasks, you might find the following\n",
    "prototyper helpful: https://regex101.com/  "
   ]
  },
  {
   "cell_type": "code",
   "execution_count": 62,
   "metadata": {},
   "outputs": [
    {
     "data": {
      "text/plain": [
       "asia_west bank and gaza    12\n",
       "asia_cambodia              12\n",
       "americas_peru              12\n",
       "asia_korea, rep.           12\n",
       "africa_sierra leone        12\n",
       "                           ..\n",
       "africa_cameroon            12\n",
       "africa_cote d'ivoire       11\n",
       "americas_canada             9\n",
       "_canada                     3\n",
       "africa_cote d'ivore         1\n",
       "Name: region, Length: 144, dtype: int64"
      ]
     },
     "execution_count": 62,
     "metadata": {},
     "output_type": "execute_result"
    }
   ],
   "source": [
    "gapminder_copy['region'].replace(\".*congo, dem.*\", \"africa_dem rep congo\", regex=True, inplace=True)\n",
    "gapminder_copy['region'].replace(\".*_democratic republic of the congo\", \"africa_dem rep congo\", regex=True, inplace=True)\n",
    "gapminder_copy['region'].value_counts() # Now it's fixed."
   ]
  },
  {
   "cell_type": "markdown",
   "metadata": {},
   "source": [
    "### Exercise (regex):\n",
    "\n",
    "Now that we've taken a close look at how to properly design and use regex to\n",
    "clean string entries in our data, let's try to normalize the naming of a few\n",
    "other countries. Using the pandas code we constructed above as a template,\n",
    "construct similar code (using `pd.df.replace()`) to set the naming of the Ivory\n",
    "Coast and Canada to \"africa_cote d'ivoire\" and \"americas_canada\", respectively."
   ]
  },
  {
   "cell_type": "code",
   "execution_count": null,
   "metadata": {},
   "outputs": [],
   "source": [
    "# Try this on your own"
   ]
  },
  {
   "cell_type": "markdown",
   "metadata": {},
   "source": [
    "## Tidy data\n",
    "\n",
    "Having what is called a \"_Tidy_ data set\" can make cleaning, analyzing, and visualizing your data much easier. You should aim for having Tidy data when cleaning and preparing your data set for analysis. Two of the important aspects of Tidy data are:\n",
    "* every variable has its own column\n",
    "* every observation has its own row\n",
    "\n",
    "(There are other aspects of Tidy data, here is a good blog post about Tidy data in Python: http://www.jeannicholashould.com/tidy-data-in-python.html)\n",
    "\n",
    "Currently the gapminder dataset has a single column for continent and country (the ‘region’ column). We can split that column into two, by using the underscore that separates continent from country.\n",
    "We can create a new column in the `DataFrame` by naming it before the = sign:\n",
    "`gapminder['country'] = `\n",
    "\n",
    "The following commands use the function `split()` to split the string at the underscore (the first argument), which results in a list of two elements: before and after the \\_. The second argument tells `split()` that the split should take place only at the first occurrence of the underscore."
   ]
  },
  {
   "cell_type": "code",
   "execution_count": null,
   "metadata": {},
   "outputs": [],
   "source": [
    "gapminder_copy['country']=gapminder_copy['region'].str.split('_', 1).str[1]\n",
    "gapminder_copy['continent']=gapminder_copy['region'].str.split('_', 1).str[0]\n",
    "gapminder_copy.head()"
   ]
  },
  {
   "cell_type": "markdown",
   "metadata": {},
   "source": [
    "### Removing and renaming columns\n",
    "\n",
    "We have now added the columns `country` and `continent`, but we still have the old `region` column as well. In order to remove that column we use the `drop()` command. The first argument of the `drop()` command is the name of the element to be dropped. The second argument is the *axis* number:  \n",
    "*0 for row, 1 for column*."
   ]
  },
  {
   "cell_type": "code",
   "execution_count": 63,
   "metadata": {},
   "outputs": [
    {
     "data": {
      "text/plain": [
       "array([[1952, 8425333, 28.801, 779.4453145, 'Asia_Afghanistan'],\n",
       "       [1957, 9240934, 30.332, 820.8530296, 'Asia_Afghanistan'],\n",
       "       [1962, 10267083, 31.997, 853.10071, 'Asia_Afghanistan'],\n",
       "       ...,\n",
       "       [1997, 11404948, 46.809, 792.4499603, 'Africa_Zimbabwe'],\n",
       "       [2002, 11926563, 39.989, 672.0386227, 'Africa_Zimbabwe'],\n",
       "       [2007, 12311143, 43.487, 469.7092981, 'Africa_Zimbabwe']],\n",
       "      dtype=object)"
      ]
     },
     "execution_count": 63,
     "metadata": {},
     "output_type": "execute_result"
    }
   ],
   "source": [
    "# drop()\n",
    "gapminder_copy = gapminder_copy.drop('region', 1)\n",
    "gapinder_copy.values"
   ]
  },
  {
   "cell_type": "markdown",
   "metadata": {},
   "source": [
    "Finally, it is a good idea to look critically at your column names. Use lowercase for all column names to avoid confusing `gdppercap` with `gdpPercap` or `GDPpercap`. Avoid spaces in column names to simplify manipulating your data - look out for lingering white space at the beginning or end of your column names. The following code turns all column names to lowercase. \n"
   ]
  },
  {
   "cell_type": "code",
   "execution_count": null,
   "metadata": {},
   "outputs": [],
   "source": [
    "# str.lower()"
   ]
  },
  {
   "cell_type": "markdown",
   "metadata": {},
   "source": [
    "We also want to remove the space from the `life exp` column name. We can do that with Pandas `rename` method. It takes a dictionary as its argument, with the old column names as keys and new column names as values.\n",
    "\n",
    "If you're unfamiliar with dictionaries, they are a very useful data structure in Python.  You can read more about them [here](https://docs.python.org/3/tutorial/datastructures.html#dictionaries)."
   ]
  },
  {
   "cell_type": "code",
   "execution_count": 65,
   "metadata": {},
   "outputs": [
    {
     "data": {
      "text/html": [
       "<div>\n",
       "<style scoped>\n",
       "    .dataframe tbody tr th:only-of-type {\n",
       "        vertical-align: middle;\n",
       "    }\n",
       "\n",
       "    .dataframe tbody tr th {\n",
       "        vertical-align: top;\n",
       "    }\n",
       "\n",
       "    .dataframe thead th {\n",
       "        text-align: right;\n",
       "    }\n",
       "</style>\n",
       "<table border=\"1\" class=\"dataframe\">\n",
       "  <thead>\n",
       "    <tr style=\"text-align: right;\">\n",
       "      <th></th>\n",
       "      <th>year</th>\n",
       "      <th>pop</th>\n",
       "      <th>lifeexp</th>\n",
       "      <th>gdpPercap</th>\n",
       "    </tr>\n",
       "  </thead>\n",
       "  <tbody>\n",
       "    <tr>\n",
       "      <th>0</th>\n",
       "      <td>1952</td>\n",
       "      <td>8425333</td>\n",
       "      <td>28.801</td>\n",
       "      <td>779.445314</td>\n",
       "    </tr>\n",
       "    <tr>\n",
       "      <th>1</th>\n",
       "      <td>1957</td>\n",
       "      <td>9240934</td>\n",
       "      <td>30.332</td>\n",
       "      <td>820.853030</td>\n",
       "    </tr>\n",
       "    <tr>\n",
       "      <th>2</th>\n",
       "      <td>1962</td>\n",
       "      <td>10267083</td>\n",
       "      <td>31.997</td>\n",
       "      <td>853.100710</td>\n",
       "    </tr>\n",
       "    <tr>\n",
       "      <th>3</th>\n",
       "      <td>1967</td>\n",
       "      <td>11537966</td>\n",
       "      <td>34.020</td>\n",
       "      <td>836.197138</td>\n",
       "    </tr>\n",
       "    <tr>\n",
       "      <th>4</th>\n",
       "      <td>1972</td>\n",
       "      <td>13079460</td>\n",
       "      <td>36.088</td>\n",
       "      <td>739.981106</td>\n",
       "    </tr>\n",
       "  </tbody>\n",
       "</table>\n",
       "</div>"
      ],
      "text/plain": [
       "   year       pop  lifeexp   gdpPercap\n",
       "0  1952   8425333   28.801  779.445314\n",
       "1  1957   9240934   30.332  820.853030\n",
       "2  1962  10267083   31.997  853.100710\n",
       "3  1967  11537966   34.020  836.197138\n",
       "4  1972  13079460   36.088  739.981106"
      ]
     },
     "execution_count": 65,
     "metadata": {},
     "output_type": "execute_result"
    }
   ],
   "source": [
    "# rename columns\n",
    "gapminder_copy = gapminder_copy.rename(columns = {'life Exp':'lifeexp'})\n",
    "gapminder_copy.head()"
   ]
  },
  {
   "cell_type": "markdown",
   "metadata": {},
   "source": [
    "## Merging data\n",
    "\n",
    "Often we have more than one `DataFrame` that contains parts of our data set and we want to put them together. This is known as merging the data.\n",
    "\n",
    "Our advisor now wants us to add a new country called The People's Republic of Berkeley to the gapminder data set that we have cleaned up. Our goal is to get this new data into the same `DataFrame` in the same format as the gapminder data and, in this case, we want to concatenate (add) it onto the end of the gapminder data.\n",
    "\n",
    "Concatentating is a simple form of merging, there are many useful (and more complicated) ways to merge data.  If you are interested in more information, the [Pandas Documentation](http://pandas.pydata.org/pandas-docs/stable/merging.html) is useful."
   ]
  },
  {
   "cell_type": "code",
   "execution_count": 66,
   "metadata": {},
   "outputs": [
    {
     "data": {
      "text/html": [
       "<div>\n",
       "<style scoped>\n",
       "    .dataframe tbody tr th:only-of-type {\n",
       "        vertical-align: middle;\n",
       "    }\n",
       "\n",
       "    .dataframe tbody tr th {\n",
       "        vertical-align: top;\n",
       "    }\n",
       "\n",
       "    .dataframe thead th {\n",
       "        text-align: right;\n",
       "    }\n",
       "</style>\n",
       "<table border=\"1\" class=\"dataframe\">\n",
       "  <thead>\n",
       "    <tr style=\"text-align: right;\">\n",
       "      <th></th>\n",
       "      <th>year</th>\n",
       "      <th>pop</th>\n",
       "      <th>lifeExp</th>\n",
       "      <th>gdpPercap</th>\n",
       "      <th>region</th>\n",
       "    </tr>\n",
       "  </thead>\n",
       "  <tbody>\n",
       "    <tr>\n",
       "      <th>0</th>\n",
       "      <td>1952</td>\n",
       "      <td>113805</td>\n",
       "      <td>66.75</td>\n",
       "      <td>779.6780</td>\n",
       "      <td>Americas_Peoples Republic of Berkeley</td>\n",
       "    </tr>\n",
       "    <tr>\n",
       "      <th>1</th>\n",
       "      <td>1957</td>\n",
       "      <td>114077</td>\n",
       "      <td>67.96</td>\n",
       "      <td>821.2960</td>\n",
       "      <td>Americas_Peoples Republic of Berkeley</td>\n",
       "    </tr>\n",
       "    <tr>\n",
       "      <th>2</th>\n",
       "      <td>1962</td>\n",
       "      <td>111268</td>\n",
       "      <td>71.11</td>\n",
       "      <td>857.2354</td>\n",
       "      <td>Americas_Peoples Republic of Berkeley</td>\n",
       "    </tr>\n",
       "    <tr>\n",
       "      <th>3</th>\n",
       "      <td>1967</td>\n",
       "      <td>114785</td>\n",
       "      <td>72.03</td>\n",
       "      <td>838.1382</td>\n",
       "      <td>Americas_Peoples Republic of Berkeley</td>\n",
       "    </tr>\n",
       "    <tr>\n",
       "      <th>4</th>\n",
       "      <td>1972</td>\n",
       "      <td>116716</td>\n",
       "      <td>72.67</td>\n",
       "      <td>737.1058</td>\n",
       "      <td>Americas_Peoples Republic of Berkeley</td>\n",
       "    </tr>\n",
       "  </tbody>\n",
       "</table>\n",
       "</div>"
      ],
      "text/plain": [
       "   year     pop  lifeExp  gdpPercap                                 region\n",
       "0  1952  113805    66.75   779.6780  Americas_Peoples Republic of Berkeley\n",
       "1  1957  114077    67.96   821.2960  Americas_Peoples Republic of Berkeley\n",
       "2  1962  111268    71.11   857.2354  Americas_Peoples Republic of Berkeley\n",
       "3  1967  114785    72.03   838.1382  Americas_Peoples Republic of Berkeley\n",
       "4  1972  116716    72.67   737.1058  Americas_Peoples Republic of Berkeley"
      ]
     },
     "execution_count": 66,
     "metadata": {},
     "output_type": "execute_result"
    }
   ],
   "source": [
    "PRB = pd.read_table(\"PRB_data.txt\", sep = \"\\t\")\n",
    "PRB.head()"
   ]
  },
  {
   "cell_type": "code",
   "execution_count": 67,
   "metadata": {},
   "outputs": [
    {
     "data": {
      "text/html": [
       "<div>\n",
       "<style scoped>\n",
       "    .dataframe tbody tr th:only-of-type {\n",
       "        vertical-align: middle;\n",
       "    }\n",
       "\n",
       "    .dataframe tbody tr th {\n",
       "        vertical-align: top;\n",
       "    }\n",
       "\n",
       "    .dataframe thead th {\n",
       "        text-align: right;\n",
       "    }\n",
       "</style>\n",
       "<table border=\"1\" class=\"dataframe\">\n",
       "  <thead>\n",
       "    <tr style=\"text-align: right;\">\n",
       "      <th></th>\n",
       "      <th>year</th>\n",
       "      <th>pop</th>\n",
       "      <th>lifeexp</th>\n",
       "      <th>gdpPercap</th>\n",
       "    </tr>\n",
       "  </thead>\n",
       "  <tbody>\n",
       "    <tr>\n",
       "      <th>0</th>\n",
       "      <td>1952</td>\n",
       "      <td>8425333</td>\n",
       "      <td>28.801</td>\n",
       "      <td>779.445314</td>\n",
       "    </tr>\n",
       "    <tr>\n",
       "      <th>1</th>\n",
       "      <td>1957</td>\n",
       "      <td>9240934</td>\n",
       "      <td>30.332</td>\n",
       "      <td>820.853030</td>\n",
       "    </tr>\n",
       "    <tr>\n",
       "      <th>2</th>\n",
       "      <td>1962</td>\n",
       "      <td>10267083</td>\n",
       "      <td>31.997</td>\n",
       "      <td>853.100710</td>\n",
       "    </tr>\n",
       "    <tr>\n",
       "      <th>3</th>\n",
       "      <td>1967</td>\n",
       "      <td>11537966</td>\n",
       "      <td>34.020</td>\n",
       "      <td>836.197138</td>\n",
       "    </tr>\n",
       "    <tr>\n",
       "      <th>4</th>\n",
       "      <td>1972</td>\n",
       "      <td>13079460</td>\n",
       "      <td>36.088</td>\n",
       "      <td>739.981106</td>\n",
       "    </tr>\n",
       "  </tbody>\n",
       "</table>\n",
       "</div>"
      ],
      "text/plain": [
       "   year       pop  lifeexp   gdpPercap\n",
       "0  1952   8425333   28.801  779.445314\n",
       "1  1957   9240934   30.332  820.853030\n",
       "2  1962  10267083   31.997  853.100710\n",
       "3  1967  11537966   34.020  836.197138\n",
       "4  1972  13079460   36.088  739.981106"
      ]
     },
     "execution_count": 67,
     "metadata": {},
     "output_type": "execute_result"
    }
   ],
   "source": [
    "## bring in PRB data (no major problems) and make it conform to the gapminder at this point\n",
    "# clean the data to look like the current gapminder\n",
    "gapminder_copy.head()"
   ]
  },
  {
   "cell_type": "code",
   "execution_count": 68,
   "metadata": {},
   "outputs": [
    {
     "data": {
      "text/html": [
       "<div>\n",
       "<style scoped>\n",
       "    .dataframe tbody tr th:only-of-type {\n",
       "        vertical-align: middle;\n",
       "    }\n",
       "\n",
       "    .dataframe tbody tr th {\n",
       "        vertical-align: top;\n",
       "    }\n",
       "\n",
       "    .dataframe thead th {\n",
       "        text-align: right;\n",
       "    }\n",
       "</style>\n",
       "<table border=\"1\" class=\"dataframe\">\n",
       "  <thead>\n",
       "    <tr style=\"text-align: right;\">\n",
       "      <th></th>\n",
       "      <th>year</th>\n",
       "      <th>pop</th>\n",
       "      <th>lifeexp</th>\n",
       "      <th>gdppercap</th>\n",
       "      <th>country</th>\n",
       "      <th>continent</th>\n",
       "    </tr>\n",
       "  </thead>\n",
       "  <tbody>\n",
       "    <tr>\n",
       "      <th>0</th>\n",
       "      <td>1952</td>\n",
       "      <td>113805</td>\n",
       "      <td>66.75</td>\n",
       "      <td>779.6780</td>\n",
       "      <td>peoples republic of berkeley</td>\n",
       "      <td>americas</td>\n",
       "    </tr>\n",
       "    <tr>\n",
       "      <th>1</th>\n",
       "      <td>1957</td>\n",
       "      <td>114077</td>\n",
       "      <td>67.96</td>\n",
       "      <td>821.2960</td>\n",
       "      <td>peoples republic of berkeley</td>\n",
       "      <td>americas</td>\n",
       "    </tr>\n",
       "    <tr>\n",
       "      <th>2</th>\n",
       "      <td>1962</td>\n",
       "      <td>111268</td>\n",
       "      <td>71.11</td>\n",
       "      <td>857.2354</td>\n",
       "      <td>peoples republic of berkeley</td>\n",
       "      <td>americas</td>\n",
       "    </tr>\n",
       "    <tr>\n",
       "      <th>3</th>\n",
       "      <td>1967</td>\n",
       "      <td>114785</td>\n",
       "      <td>72.03</td>\n",
       "      <td>838.1382</td>\n",
       "      <td>peoples republic of berkeley</td>\n",
       "      <td>americas</td>\n",
       "    </tr>\n",
       "    <tr>\n",
       "      <th>4</th>\n",
       "      <td>1972</td>\n",
       "      <td>116716</td>\n",
       "      <td>72.67</td>\n",
       "      <td>737.1058</td>\n",
       "      <td>peoples republic of berkeley</td>\n",
       "      <td>americas</td>\n",
       "    </tr>\n",
       "  </tbody>\n",
       "</table>\n",
       "</div>"
      ],
      "text/plain": [
       "   year     pop  lifeexp  gdppercap                       country continent\n",
       "0  1952  113805    66.75   779.6780  peoples republic of berkeley  americas\n",
       "1  1957  114077    67.96   821.2960  peoples republic of berkeley  americas\n",
       "2  1962  111268    71.11   857.2354  peoples republic of berkeley  americas\n",
       "3  1967  114785    72.03   838.1382  peoples republic of berkeley  americas\n",
       "4  1972  116716    72.67   737.1058  peoples republic of berkeley  americas"
      ]
     },
     "execution_count": 68,
     "metadata": {},
     "output_type": "execute_result"
    }
   ],
   "source": [
    "# double check that the gapminder is the same\n",
    "PRB['country']=PRB['region'].str.split('_', 1).str[1].str.lower()\n",
    "PRB['continent']=PRB['region'].str.split('_', 1).str[0].str.lower()\n",
    "PRB = PRB.drop('region', 1)\n",
    "PRB.columns = PRB.columns.str.lower()\n",
    "PRB = PRB.rename(columns={'life exp' : 'lifeexp'})\n",
    "PRB.head()\n"
   ]
  },
  {
   "cell_type": "code",
   "execution_count": 71,
   "metadata": {},
   "outputs": [
    {
     "data": {
      "text/html": [
       "<div>\n",
       "<style scoped>\n",
       "    .dataframe tbody tr th:only-of-type {\n",
       "        vertical-align: middle;\n",
       "    }\n",
       "\n",
       "    .dataframe tbody tr th {\n",
       "        vertical-align: top;\n",
       "    }\n",
       "\n",
       "    .dataframe thead th {\n",
       "        text-align: right;\n",
       "    }\n",
       "</style>\n",
       "<table border=\"1\" class=\"dataframe\">\n",
       "  <thead>\n",
       "    <tr style=\"text-align: right;\">\n",
       "      <th></th>\n",
       "      <th>year</th>\n",
       "      <th>pop</th>\n",
       "      <th>lifeexp</th>\n",
       "      <th>gdpPercap</th>\n",
       "      <th>gdppercap</th>\n",
       "      <th>country</th>\n",
       "      <th>continent</th>\n",
       "    </tr>\n",
       "  </thead>\n",
       "  <tbody>\n",
       "    <tr>\n",
       "      <th>1701</th>\n",
       "      <td>1997</td>\n",
       "      <td>11404948</td>\n",
       "      <td>46.809</td>\n",
       "      <td>792.449960</td>\n",
       "      <td>NaN</td>\n",
       "      <td>NaN</td>\n",
       "      <td>NaN</td>\n",
       "    </tr>\n",
       "    <tr>\n",
       "      <th>1702</th>\n",
       "      <td>2002</td>\n",
       "      <td>11926563</td>\n",
       "      <td>39.989</td>\n",
       "      <td>672.038623</td>\n",
       "      <td>NaN</td>\n",
       "      <td>NaN</td>\n",
       "      <td>NaN</td>\n",
       "    </tr>\n",
       "    <tr>\n",
       "      <th>1703</th>\n",
       "      <td>2007</td>\n",
       "      <td>12311143</td>\n",
       "      <td>43.487</td>\n",
       "      <td>469.709298</td>\n",
       "      <td>NaN</td>\n",
       "      <td>NaN</td>\n",
       "      <td>NaN</td>\n",
       "    </tr>\n",
       "    <tr>\n",
       "      <th>0</th>\n",
       "      <td>1952</td>\n",
       "      <td>113805</td>\n",
       "      <td>66.750</td>\n",
       "      <td>NaN</td>\n",
       "      <td>779.6780</td>\n",
       "      <td>peoples republic of berkeley</td>\n",
       "      <td>americas</td>\n",
       "    </tr>\n",
       "    <tr>\n",
       "      <th>1</th>\n",
       "      <td>1957</td>\n",
       "      <td>114077</td>\n",
       "      <td>67.960</td>\n",
       "      <td>NaN</td>\n",
       "      <td>821.2960</td>\n",
       "      <td>peoples republic of berkeley</td>\n",
       "      <td>americas</td>\n",
       "    </tr>\n",
       "    <tr>\n",
       "      <th>2</th>\n",
       "      <td>1962</td>\n",
       "      <td>111268</td>\n",
       "      <td>71.110</td>\n",
       "      <td>NaN</td>\n",
       "      <td>857.2354</td>\n",
       "      <td>peoples republic of berkeley</td>\n",
       "      <td>americas</td>\n",
       "    </tr>\n",
       "    <tr>\n",
       "      <th>3</th>\n",
       "      <td>1967</td>\n",
       "      <td>114785</td>\n",
       "      <td>72.030</td>\n",
       "      <td>NaN</td>\n",
       "      <td>838.1382</td>\n",
       "      <td>peoples republic of berkeley</td>\n",
       "      <td>americas</td>\n",
       "    </tr>\n",
       "    <tr>\n",
       "      <th>4</th>\n",
       "      <td>1972</td>\n",
       "      <td>116716</td>\n",
       "      <td>72.670</td>\n",
       "      <td>NaN</td>\n",
       "      <td>737.1058</td>\n",
       "      <td>peoples republic of berkeley</td>\n",
       "      <td>americas</td>\n",
       "    </tr>\n",
       "    <tr>\n",
       "      <th>5</th>\n",
       "      <td>1977</td>\n",
       "      <td>116370</td>\n",
       "      <td>73.710</td>\n",
       "      <td>NaN</td>\n",
       "      <td>785.1336</td>\n",
       "      <td>peoples republic of berkeley</td>\n",
       "      <td>americas</td>\n",
       "    </tr>\n",
       "    <tr>\n",
       "      <th>6</th>\n",
       "      <td>1982</td>\n",
       "      <td>104429</td>\n",
       "      <td>74.560</td>\n",
       "      <td>NaN</td>\n",
       "      <td>980.0388</td>\n",
       "      <td>peoples republic of berkeley</td>\n",
       "      <td>americas</td>\n",
       "    </tr>\n",
       "    <tr>\n",
       "      <th>7</th>\n",
       "      <td>1987</td>\n",
       "      <td>102351</td>\n",
       "      <td>75.960</td>\n",
       "      <td>NaN</td>\n",
       "      <td>851.9448</td>\n",
       "      <td>peoples republic of berkeley</td>\n",
       "      <td>americas</td>\n",
       "    </tr>\n",
       "    <tr>\n",
       "      <th>8</th>\n",
       "      <td>1992</td>\n",
       "      <td>103328</td>\n",
       "      <td>76.950</td>\n",
       "      <td>NaN</td>\n",
       "      <td>649.3952</td>\n",
       "      <td>peoples republic of berkeley</td>\n",
       "      <td>americas</td>\n",
       "    </tr>\n",
       "    <tr>\n",
       "      <th>9</th>\n",
       "      <td>1997</td>\n",
       "      <td>102724</td>\n",
       "      <td>78.910</td>\n",
       "      <td>NaN</td>\n",
       "      <td>636.3435</td>\n",
       "      <td>peoples republic of berkeley</td>\n",
       "      <td>americas</td>\n",
       "    </tr>\n",
       "    <tr>\n",
       "      <th>10</th>\n",
       "      <td>2002</td>\n",
       "      <td>102743</td>\n",
       "      <td>79.070</td>\n",
       "      <td>NaN</td>\n",
       "      <td>726.7340</td>\n",
       "      <td>peoples republic of berkeley</td>\n",
       "      <td>americas</td>\n",
       "    </tr>\n",
       "    <tr>\n",
       "      <th>11</th>\n",
       "      <td>2007</td>\n",
       "      <td>112580</td>\n",
       "      <td>80.030</td>\n",
       "      <td>NaN</td>\n",
       "      <td>979.3384</td>\n",
       "      <td>peoples republic of berkeley</td>\n",
       "      <td>americas</td>\n",
       "    </tr>\n",
       "  </tbody>\n",
       "</table>\n",
       "</div>"
      ],
      "text/plain": [
       "      year       pop  lifeexp   gdpPercap  gdppercap  \\\n",
       "1701  1997  11404948   46.809  792.449960        NaN   \n",
       "1702  2002  11926563   39.989  672.038623        NaN   \n",
       "1703  2007  12311143   43.487  469.709298        NaN   \n",
       "0     1952    113805   66.750         NaN   779.6780   \n",
       "1     1957    114077   67.960         NaN   821.2960   \n",
       "2     1962    111268   71.110         NaN   857.2354   \n",
       "3     1967    114785   72.030         NaN   838.1382   \n",
       "4     1972    116716   72.670         NaN   737.1058   \n",
       "5     1977    116370   73.710         NaN   785.1336   \n",
       "6     1982    104429   74.560         NaN   980.0388   \n",
       "7     1987    102351   75.960         NaN   851.9448   \n",
       "8     1992    103328   76.950         NaN   649.3952   \n",
       "9     1997    102724   78.910         NaN   636.3435   \n",
       "10    2002    102743   79.070         NaN   726.7340   \n",
       "11    2007    112580   80.030         NaN   979.3384   \n",
       "\n",
       "                           country continent  \n",
       "1701                           NaN       NaN  \n",
       "1702                           NaN       NaN  \n",
       "1703                           NaN       NaN  \n",
       "0     peoples republic of berkeley  americas  \n",
       "1     peoples republic of berkeley  americas  \n",
       "2     peoples republic of berkeley  americas  \n",
       "3     peoples republic of berkeley  americas  \n",
       "4     peoples republic of berkeley  americas  \n",
       "5     peoples republic of berkeley  americas  \n",
       "6     peoples republic of berkeley  americas  \n",
       "7     peoples republic of berkeley  americas  \n",
       "8     peoples republic of berkeley  americas  \n",
       "9     peoples republic of berkeley  americas  \n",
       "10    peoples republic of berkeley  americas  \n",
       "11    peoples republic of berkeley  americas  "
      ]
     },
     "execution_count": 71,
     "metadata": {},
     "output_type": "execute_result"
    }
   ],
   "source": [
    "# combine the data sets with concat\n",
    "gapminder_comb = pd.concat([gapminder_copy, PRB])\n",
    "gapminder_comb.tail(15)"
   ]
  },
  {
   "cell_type": "markdown",
   "metadata": {},
   "source": [
    "Now that the `DataFrames` have been concatenated, notice that the index is funky. It repeats the numbers 0 - 11 in the `peoples republic of berkeley data`. <p>\n",
    "#### **Exercise:** fix the index.\n"
   ]
  },
  {
   "cell_type": "code",
   "execution_count": 72,
   "metadata": {},
   "outputs": [
    {
     "data": {
      "text/html": [
       "<div>\n",
       "<style scoped>\n",
       "    .dataframe tbody tr th:only-of-type {\n",
       "        vertical-align: middle;\n",
       "    }\n",
       "\n",
       "    .dataframe tbody tr th {\n",
       "        vertical-align: top;\n",
       "    }\n",
       "\n",
       "    .dataframe thead th {\n",
       "        text-align: right;\n",
       "    }\n",
       "</style>\n",
       "<table border=\"1\" class=\"dataframe\">\n",
       "  <thead>\n",
       "    <tr style=\"text-align: right;\">\n",
       "      <th></th>\n",
       "      <th>year</th>\n",
       "      <th>pop</th>\n",
       "      <th>lifeexp</th>\n",
       "      <th>gdpPercap</th>\n",
       "      <th>gdppercap</th>\n",
       "      <th>country</th>\n",
       "      <th>continent</th>\n",
       "    </tr>\n",
       "  </thead>\n",
       "  <tbody>\n",
       "    <tr>\n",
       "      <th>1701</th>\n",
       "      <td>1997</td>\n",
       "      <td>11404948</td>\n",
       "      <td>46.809</td>\n",
       "      <td>792.449960</td>\n",
       "      <td>NaN</td>\n",
       "      <td>NaN</td>\n",
       "      <td>NaN</td>\n",
       "    </tr>\n",
       "    <tr>\n",
       "      <th>1702</th>\n",
       "      <td>2002</td>\n",
       "      <td>11926563</td>\n",
       "      <td>39.989</td>\n",
       "      <td>672.038623</td>\n",
       "      <td>NaN</td>\n",
       "      <td>NaN</td>\n",
       "      <td>NaN</td>\n",
       "    </tr>\n",
       "    <tr>\n",
       "      <th>1703</th>\n",
       "      <td>2007</td>\n",
       "      <td>12311143</td>\n",
       "      <td>43.487</td>\n",
       "      <td>469.709298</td>\n",
       "      <td>NaN</td>\n",
       "      <td>NaN</td>\n",
       "      <td>NaN</td>\n",
       "    </tr>\n",
       "    <tr>\n",
       "      <th>1704</th>\n",
       "      <td>1952</td>\n",
       "      <td>113805</td>\n",
       "      <td>66.750</td>\n",
       "      <td>NaN</td>\n",
       "      <td>779.6780</td>\n",
       "      <td>peoples republic of berkeley</td>\n",
       "      <td>americas</td>\n",
       "    </tr>\n",
       "    <tr>\n",
       "      <th>1705</th>\n",
       "      <td>1957</td>\n",
       "      <td>114077</td>\n",
       "      <td>67.960</td>\n",
       "      <td>NaN</td>\n",
       "      <td>821.2960</td>\n",
       "      <td>peoples republic of berkeley</td>\n",
       "      <td>americas</td>\n",
       "    </tr>\n",
       "    <tr>\n",
       "      <th>1706</th>\n",
       "      <td>1962</td>\n",
       "      <td>111268</td>\n",
       "      <td>71.110</td>\n",
       "      <td>NaN</td>\n",
       "      <td>857.2354</td>\n",
       "      <td>peoples republic of berkeley</td>\n",
       "      <td>americas</td>\n",
       "    </tr>\n",
       "    <tr>\n",
       "      <th>1707</th>\n",
       "      <td>1967</td>\n",
       "      <td>114785</td>\n",
       "      <td>72.030</td>\n",
       "      <td>NaN</td>\n",
       "      <td>838.1382</td>\n",
       "      <td>peoples republic of berkeley</td>\n",
       "      <td>americas</td>\n",
       "    </tr>\n",
       "    <tr>\n",
       "      <th>1708</th>\n",
       "      <td>1972</td>\n",
       "      <td>116716</td>\n",
       "      <td>72.670</td>\n",
       "      <td>NaN</td>\n",
       "      <td>737.1058</td>\n",
       "      <td>peoples republic of berkeley</td>\n",
       "      <td>americas</td>\n",
       "    </tr>\n",
       "    <tr>\n",
       "      <th>1709</th>\n",
       "      <td>1977</td>\n",
       "      <td>116370</td>\n",
       "      <td>73.710</td>\n",
       "      <td>NaN</td>\n",
       "      <td>785.1336</td>\n",
       "      <td>peoples republic of berkeley</td>\n",
       "      <td>americas</td>\n",
       "    </tr>\n",
       "    <tr>\n",
       "      <th>1710</th>\n",
       "      <td>1982</td>\n",
       "      <td>104429</td>\n",
       "      <td>74.560</td>\n",
       "      <td>NaN</td>\n",
       "      <td>980.0388</td>\n",
       "      <td>peoples republic of berkeley</td>\n",
       "      <td>americas</td>\n",
       "    </tr>\n",
       "    <tr>\n",
       "      <th>1711</th>\n",
       "      <td>1987</td>\n",
       "      <td>102351</td>\n",
       "      <td>75.960</td>\n",
       "      <td>NaN</td>\n",
       "      <td>851.9448</td>\n",
       "      <td>peoples republic of berkeley</td>\n",
       "      <td>americas</td>\n",
       "    </tr>\n",
       "    <tr>\n",
       "      <th>1712</th>\n",
       "      <td>1992</td>\n",
       "      <td>103328</td>\n",
       "      <td>76.950</td>\n",
       "      <td>NaN</td>\n",
       "      <td>649.3952</td>\n",
       "      <td>peoples republic of berkeley</td>\n",
       "      <td>americas</td>\n",
       "    </tr>\n",
       "    <tr>\n",
       "      <th>1713</th>\n",
       "      <td>1997</td>\n",
       "      <td>102724</td>\n",
       "      <td>78.910</td>\n",
       "      <td>NaN</td>\n",
       "      <td>636.3435</td>\n",
       "      <td>peoples republic of berkeley</td>\n",
       "      <td>americas</td>\n",
       "    </tr>\n",
       "    <tr>\n",
       "      <th>1714</th>\n",
       "      <td>2002</td>\n",
       "      <td>102743</td>\n",
       "      <td>79.070</td>\n",
       "      <td>NaN</td>\n",
       "      <td>726.7340</td>\n",
       "      <td>peoples republic of berkeley</td>\n",
       "      <td>americas</td>\n",
       "    </tr>\n",
       "    <tr>\n",
       "      <th>1715</th>\n",
       "      <td>2007</td>\n",
       "      <td>112580</td>\n",
       "      <td>80.030</td>\n",
       "      <td>NaN</td>\n",
       "      <td>979.3384</td>\n",
       "      <td>peoples republic of berkeley</td>\n",
       "      <td>americas</td>\n",
       "    </tr>\n",
       "  </tbody>\n",
       "</table>\n",
       "</div>"
      ],
      "text/plain": [
       "      year       pop  lifeexp   gdpPercap  gdppercap  \\\n",
       "1701  1997  11404948   46.809  792.449960        NaN   \n",
       "1702  2002  11926563   39.989  672.038623        NaN   \n",
       "1703  2007  12311143   43.487  469.709298        NaN   \n",
       "1704  1952    113805   66.750         NaN   779.6780   \n",
       "1705  1957    114077   67.960         NaN   821.2960   \n",
       "1706  1962    111268   71.110         NaN   857.2354   \n",
       "1707  1967    114785   72.030         NaN   838.1382   \n",
       "1708  1972    116716   72.670         NaN   737.1058   \n",
       "1709  1977    116370   73.710         NaN   785.1336   \n",
       "1710  1982    104429   74.560         NaN   980.0388   \n",
       "1711  1987    102351   75.960         NaN   851.9448   \n",
       "1712  1992    103328   76.950         NaN   649.3952   \n",
       "1713  1997    102724   78.910         NaN   636.3435   \n",
       "1714  2002    102743   79.070         NaN   726.7340   \n",
       "1715  2007    112580   80.030         NaN   979.3384   \n",
       "\n",
       "                           country continent  \n",
       "1701                           NaN       NaN  \n",
       "1702                           NaN       NaN  \n",
       "1703                           NaN       NaN  \n",
       "1704  peoples republic of berkeley  americas  \n",
       "1705  peoples republic of berkeley  americas  \n",
       "1706  peoples republic of berkeley  americas  \n",
       "1707  peoples republic of berkeley  americas  \n",
       "1708  peoples republic of berkeley  americas  \n",
       "1709  peoples republic of berkeley  americas  \n",
       "1710  peoples republic of berkeley  americas  \n",
       "1711  peoples republic of berkeley  americas  \n",
       "1712  peoples republic of berkeley  americas  \n",
       "1713  peoples republic of berkeley  americas  \n",
       "1714  peoples republic of berkeley  americas  \n",
       "1715  peoples republic of berkeley  americas  "
      ]
     },
     "execution_count": 72,
     "metadata": {},
     "output_type": "execute_result"
    }
   ],
   "source": [
    "# our code for fixing index\n",
    "gapminder_comb = gapminder_comb.reset_index(drop=True)\n",
    "gapminder_comb.tail(15)"
   ]
  },
  {
   "cell_type": "markdown",
   "metadata": {
    "collapsed": true
   },
   "source": [
    "## Subsetting and sorting\n",
    "\n",
    "There are many ways in which you can manipulate a Pandas `DataFrame` - here we will discuss two approaches: subsetting and sorting.\n",
    "\n",
    "##### Subsetting\n",
    "We can subset (or slice) by giving the numbers of the rows you want to see between square brackets.\n",
    "\n",
    "*REMINDER:* Python uses 0-based indexing. This means that the first element in an object is located at position 0. this is different from other tools like R and Matlab that index elements within objects starting at 1."
   ]
  },
  {
   "cell_type": "code",
   "execution_count": 73,
   "metadata": {},
   "outputs": [
    {
     "data": {
      "text/html": [
       "<div>\n",
       "<style scoped>\n",
       "    .dataframe tbody tr th:only-of-type {\n",
       "        vertical-align: middle;\n",
       "    }\n",
       "\n",
       "    .dataframe tbody tr th {\n",
       "        vertical-align: top;\n",
       "    }\n",
       "\n",
       "    .dataframe thead th {\n",
       "        text-align: right;\n",
       "    }\n",
       "</style>\n",
       "<table border=\"1\" class=\"dataframe\">\n",
       "  <thead>\n",
       "    <tr style=\"text-align: right;\">\n",
       "      <th></th>\n",
       "      <th>year</th>\n",
       "      <th>pop</th>\n",
       "      <th>lifeexp</th>\n",
       "      <th>gdpPercap</th>\n",
       "    </tr>\n",
       "  </thead>\n",
       "  <tbody>\n",
       "    <tr>\n",
       "      <th>0</th>\n",
       "      <td>1952</td>\n",
       "      <td>8425333</td>\n",
       "      <td>28.801</td>\n",
       "      <td>779.445314</td>\n",
       "    </tr>\n",
       "    <tr>\n",
       "      <th>1</th>\n",
       "      <td>1957</td>\n",
       "      <td>9240934</td>\n",
       "      <td>30.332</td>\n",
       "      <td>820.853030</td>\n",
       "    </tr>\n",
       "    <tr>\n",
       "      <th>2</th>\n",
       "      <td>1962</td>\n",
       "      <td>10267083</td>\n",
       "      <td>31.997</td>\n",
       "      <td>853.100710</td>\n",
       "    </tr>\n",
       "    <tr>\n",
       "      <th>3</th>\n",
       "      <td>1967</td>\n",
       "      <td>11537966</td>\n",
       "      <td>34.020</td>\n",
       "      <td>836.197138</td>\n",
       "    </tr>\n",
       "    <tr>\n",
       "      <th>4</th>\n",
       "      <td>1972</td>\n",
       "      <td>13079460</td>\n",
       "      <td>36.088</td>\n",
       "      <td>739.981106</td>\n",
       "    </tr>\n",
       "    <tr>\n",
       "      <th>5</th>\n",
       "      <td>1977</td>\n",
       "      <td>14880372</td>\n",
       "      <td>38.438</td>\n",
       "      <td>786.113360</td>\n",
       "    </tr>\n",
       "    <tr>\n",
       "      <th>6</th>\n",
       "      <td>1982</td>\n",
       "      <td>12881816</td>\n",
       "      <td>39.854</td>\n",
       "      <td>978.011439</td>\n",
       "    </tr>\n",
       "    <tr>\n",
       "      <th>7</th>\n",
       "      <td>1987</td>\n",
       "      <td>13867957</td>\n",
       "      <td>40.822</td>\n",
       "      <td>852.395945</td>\n",
       "    </tr>\n",
       "    <tr>\n",
       "      <th>8</th>\n",
       "      <td>1992</td>\n",
       "      <td>16317921</td>\n",
       "      <td>41.674</td>\n",
       "      <td>649.341395</td>\n",
       "    </tr>\n",
       "    <tr>\n",
       "      <th>9</th>\n",
       "      <td>1997</td>\n",
       "      <td>22227415</td>\n",
       "      <td>41.763</td>\n",
       "      <td>635.341351</td>\n",
       "    </tr>\n",
       "    <tr>\n",
       "      <th>10</th>\n",
       "      <td>2002</td>\n",
       "      <td>25268405</td>\n",
       "      <td>42.129</td>\n",
       "      <td>726.734055</td>\n",
       "    </tr>\n",
       "    <tr>\n",
       "      <th>11</th>\n",
       "      <td>2007</td>\n",
       "      <td>31889923</td>\n",
       "      <td>43.828</td>\n",
       "      <td>974.580338</td>\n",
       "    </tr>\n",
       "    <tr>\n",
       "      <th>12</th>\n",
       "      <td>1952</td>\n",
       "      <td>1282697</td>\n",
       "      <td>55.230</td>\n",
       "      <td>1601.056136</td>\n",
       "    </tr>\n",
       "    <tr>\n",
       "      <th>13</th>\n",
       "      <td>1957</td>\n",
       "      <td>1476505</td>\n",
       "      <td>59.280</td>\n",
       "      <td>1942.284244</td>\n",
       "    </tr>\n",
       "    <tr>\n",
       "      <th>14</th>\n",
       "      <td>1962</td>\n",
       "      <td>1728137</td>\n",
       "      <td>64.820</td>\n",
       "      <td>2312.888958</td>\n",
       "    </tr>\n",
       "  </tbody>\n",
       "</table>\n",
       "</div>"
      ],
      "text/plain": [
       "    year       pop  lifeexp    gdpPercap\n",
       "0   1952   8425333   28.801   779.445314\n",
       "1   1957   9240934   30.332   820.853030\n",
       "2   1962  10267083   31.997   853.100710\n",
       "3   1967  11537966   34.020   836.197138\n",
       "4   1972  13079460   36.088   739.981106\n",
       "5   1977  14880372   38.438   786.113360\n",
       "6   1982  12881816   39.854   978.011439\n",
       "7   1987  13867957   40.822   852.395945\n",
       "8   1992  16317921   41.674   649.341395\n",
       "9   1997  22227415   41.763   635.341351\n",
       "10  2002  25268405   42.129   726.734055\n",
       "11  2007  31889923   43.828   974.580338\n",
       "12  1952   1282697   55.230  1601.056136\n",
       "13  1957   1476505   59.280  1942.284244\n",
       "14  1962   1728137   64.820  2312.888958"
      ]
     },
     "execution_count": 73,
     "metadata": {},
     "output_type": "execute_result"
    }
   ],
   "source": [
    "#Select the first 15 rows\n",
    "gapminder_copy[0:15]"
   ]
  },
  {
   "cell_type": "code",
   "execution_count": 74,
   "metadata": {},
   "outputs": [
    {
     "data": {
      "text/html": [
       "<div>\n",
       "<style scoped>\n",
       "    .dataframe tbody tr th:only-of-type {\n",
       "        vertical-align: middle;\n",
       "    }\n",
       "\n",
       "    .dataframe tbody tr th {\n",
       "        vertical-align: top;\n",
       "    }\n",
       "\n",
       "    .dataframe thead th {\n",
       "        text-align: right;\n",
       "    }\n",
       "</style>\n",
       "<table border=\"1\" class=\"dataframe\">\n",
       "  <thead>\n",
       "    <tr style=\"text-align: right;\">\n",
       "      <th></th>\n",
       "      <th>year</th>\n",
       "      <th>pop</th>\n",
       "      <th>lifeexp</th>\n",
       "      <th>gdpPercap</th>\n",
       "    </tr>\n",
       "  </thead>\n",
       "  <tbody>\n",
       "    <tr>\n",
       "      <th>0</th>\n",
       "      <td>1952</td>\n",
       "      <td>8425333</td>\n",
       "      <td>28.801</td>\n",
       "      <td>779.445314</td>\n",
       "    </tr>\n",
       "    <tr>\n",
       "      <th>1</th>\n",
       "      <td>1957</td>\n",
       "      <td>9240934</td>\n",
       "      <td>30.332</td>\n",
       "      <td>820.853030</td>\n",
       "    </tr>\n",
       "    <tr>\n",
       "      <th>2</th>\n",
       "      <td>1962</td>\n",
       "      <td>10267083</td>\n",
       "      <td>31.997</td>\n",
       "      <td>853.100710</td>\n",
       "    </tr>\n",
       "    <tr>\n",
       "      <th>3</th>\n",
       "      <td>1967</td>\n",
       "      <td>11537966</td>\n",
       "      <td>34.020</td>\n",
       "      <td>836.197138</td>\n",
       "    </tr>\n",
       "    <tr>\n",
       "      <th>4</th>\n",
       "      <td>1972</td>\n",
       "      <td>13079460</td>\n",
       "      <td>36.088</td>\n",
       "      <td>739.981106</td>\n",
       "    </tr>\n",
       "    <tr>\n",
       "      <th>5</th>\n",
       "      <td>1977</td>\n",
       "      <td>14880372</td>\n",
       "      <td>38.438</td>\n",
       "      <td>786.113360</td>\n",
       "    </tr>\n",
       "    <tr>\n",
       "      <th>6</th>\n",
       "      <td>1982</td>\n",
       "      <td>12881816</td>\n",
       "      <td>39.854</td>\n",
       "      <td>978.011439</td>\n",
       "    </tr>\n",
       "    <tr>\n",
       "      <th>7</th>\n",
       "      <td>1987</td>\n",
       "      <td>13867957</td>\n",
       "      <td>40.822</td>\n",
       "      <td>852.395945</td>\n",
       "    </tr>\n",
       "    <tr>\n",
       "      <th>8</th>\n",
       "      <td>1992</td>\n",
       "      <td>16317921</td>\n",
       "      <td>41.674</td>\n",
       "      <td>649.341395</td>\n",
       "    </tr>\n",
       "    <tr>\n",
       "      <th>9</th>\n",
       "      <td>1997</td>\n",
       "      <td>22227415</td>\n",
       "      <td>41.763</td>\n",
       "      <td>635.341351</td>\n",
       "    </tr>\n",
       "    <tr>\n",
       "      <th>10</th>\n",
       "      <td>2002</td>\n",
       "      <td>25268405</td>\n",
       "      <td>42.129</td>\n",
       "      <td>726.734055</td>\n",
       "    </tr>\n",
       "    <tr>\n",
       "      <th>11</th>\n",
       "      <td>2007</td>\n",
       "      <td>31889923</td>\n",
       "      <td>43.828</td>\n",
       "      <td>974.580338</td>\n",
       "    </tr>\n",
       "    <tr>\n",
       "      <th>12</th>\n",
       "      <td>1952</td>\n",
       "      <td>1282697</td>\n",
       "      <td>55.230</td>\n",
       "      <td>1601.056136</td>\n",
       "    </tr>\n",
       "    <tr>\n",
       "      <th>13</th>\n",
       "      <td>1957</td>\n",
       "      <td>1476505</td>\n",
       "      <td>59.280</td>\n",
       "      <td>1942.284244</td>\n",
       "    </tr>\n",
       "    <tr>\n",
       "      <th>14</th>\n",
       "      <td>1962</td>\n",
       "      <td>1728137</td>\n",
       "      <td>64.820</td>\n",
       "      <td>2312.888958</td>\n",
       "    </tr>\n",
       "  </tbody>\n",
       "</table>\n",
       "</div>"
      ],
      "text/plain": [
       "    year       pop  lifeexp    gdpPercap\n",
       "0   1952   8425333   28.801   779.445314\n",
       "1   1957   9240934   30.332   820.853030\n",
       "2   1962  10267083   31.997   853.100710\n",
       "3   1967  11537966   34.020   836.197138\n",
       "4   1972  13079460   36.088   739.981106\n",
       "5   1977  14880372   38.438   786.113360\n",
       "6   1982  12881816   39.854   978.011439\n",
       "7   1987  13867957   40.822   852.395945\n",
       "8   1992  16317921   41.674   649.341395\n",
       "9   1997  22227415   41.763   635.341351\n",
       "10  2002  25268405   42.129   726.734055\n",
       "11  2007  31889923   43.828   974.580338\n",
       "12  1952   1282697   55.230  1601.056136\n",
       "13  1957   1476505   59.280  1942.284244\n",
       "14  1962   1728137   64.820  2312.888958"
      ]
     },
     "execution_count": 74,
     "metadata": {},
     "output_type": "execute_result"
    }
   ],
   "source": [
    "# Use a different way to select the first 15 rows\n",
    "gapminder_copy[:15]"
   ]
  },
  {
   "cell_type": "code",
   "execution_count": 75,
   "metadata": {},
   "outputs": [
    {
     "data": {
      "text/html": [
       "<div>\n",
       "<style scoped>\n",
       "    .dataframe tbody tr th:only-of-type {\n",
       "        vertical-align: middle;\n",
       "    }\n",
       "\n",
       "    .dataframe tbody tr th {\n",
       "        vertical-align: top;\n",
       "    }\n",
       "\n",
       "    .dataframe thead th {\n",
       "        text-align: right;\n",
       "    }\n",
       "</style>\n",
       "<table border=\"1\" class=\"dataframe\">\n",
       "  <thead>\n",
       "    <tr style=\"text-align: right;\">\n",
       "      <th></th>\n",
       "      <th>year</th>\n",
       "      <th>pop</th>\n",
       "      <th>lifeexp</th>\n",
       "      <th>gdpPercap</th>\n",
       "    </tr>\n",
       "  </thead>\n",
       "  <tbody>\n",
       "    <tr>\n",
       "      <th>1694</th>\n",
       "      <td>1962</td>\n",
       "      <td>4277736</td>\n",
       "      <td>52.358</td>\n",
       "      <td>527.272182</td>\n",
       "    </tr>\n",
       "    <tr>\n",
       "      <th>1695</th>\n",
       "      <td>1967</td>\n",
       "      <td>4995432</td>\n",
       "      <td>53.995</td>\n",
       "      <td>569.795071</td>\n",
       "    </tr>\n",
       "    <tr>\n",
       "      <th>1696</th>\n",
       "      <td>1972</td>\n",
       "      <td>5861135</td>\n",
       "      <td>55.635</td>\n",
       "      <td>799.362176</td>\n",
       "    </tr>\n",
       "    <tr>\n",
       "      <th>1697</th>\n",
       "      <td>1977</td>\n",
       "      <td>6642107</td>\n",
       "      <td>57.674</td>\n",
       "      <td>685.587682</td>\n",
       "    </tr>\n",
       "    <tr>\n",
       "      <th>1698</th>\n",
       "      <td>1982</td>\n",
       "      <td>7636524</td>\n",
       "      <td>60.363</td>\n",
       "      <td>788.855041</td>\n",
       "    </tr>\n",
       "    <tr>\n",
       "      <th>1699</th>\n",
       "      <td>1987</td>\n",
       "      <td>9216418</td>\n",
       "      <td>62.351</td>\n",
       "      <td>706.157306</td>\n",
       "    </tr>\n",
       "    <tr>\n",
       "      <th>1700</th>\n",
       "      <td>1992</td>\n",
       "      <td>10704340</td>\n",
       "      <td>60.377</td>\n",
       "      <td>693.420786</td>\n",
       "    </tr>\n",
       "    <tr>\n",
       "      <th>1701</th>\n",
       "      <td>1997</td>\n",
       "      <td>11404948</td>\n",
       "      <td>46.809</td>\n",
       "      <td>792.449960</td>\n",
       "    </tr>\n",
       "    <tr>\n",
       "      <th>1702</th>\n",
       "      <td>2002</td>\n",
       "      <td>11926563</td>\n",
       "      <td>39.989</td>\n",
       "      <td>672.038623</td>\n",
       "    </tr>\n",
       "    <tr>\n",
       "      <th>1703</th>\n",
       "      <td>2007</td>\n",
       "      <td>12311143</td>\n",
       "      <td>43.487</td>\n",
       "      <td>469.709298</td>\n",
       "    </tr>\n",
       "  </tbody>\n",
       "</table>\n",
       "</div>"
      ],
      "text/plain": [
       "      year       pop  lifeexp   gdpPercap\n",
       "1694  1962   4277736   52.358  527.272182\n",
       "1695  1967   4995432   53.995  569.795071\n",
       "1696  1972   5861135   55.635  799.362176\n",
       "1697  1977   6642107   57.674  685.587682\n",
       "1698  1982   7636524   60.363  788.855041\n",
       "1699  1987   9216418   62.351  706.157306\n",
       "1700  1992  10704340   60.377  693.420786\n",
       "1701  1997  11404948   46.809  792.449960\n",
       "1702  2002  11926563   39.989  672.038623\n",
       "1703  2007  12311143   43.487  469.709298"
      ]
     },
     "execution_count": 75,
     "metadata": {},
     "output_type": "execute_result"
    }
   ],
   "source": [
    "#Select the last 10 rows\n",
    "gapminder_copy[-10:]"
   ]
  },
  {
   "cell_type": "markdown",
   "metadata": {},
   "source": [
    "### Exercise\n",
    "\n",
    "*What does the negative number (in the third cell) mean?*"
   ]
  },
  {
   "cell_type": "markdown",
   "metadata": {},
   "source": [
    "Answer:"
   ]
  },
  {
   "cell_type": "markdown",
   "metadata": {},
   "source": [
    "*What happens when you leave the space before or after the colon empty?*"
   ]
  },
  {
   "cell_type": "markdown",
   "metadata": {},
   "source": [
    "Answer:"
   ]
  },
  {
   "cell_type": "markdown",
   "metadata": {},
   "source": [
    "Subsetting can also be done by selecting for a particular column or for a particular value in a column; for instance select the rows that have ‘africa’ in the column ‘continent. Note the double equal sign: single equal signs are used in Python to assign something to a variable. The double equal sign is a comparison: the variable to the left has to be exactly equal to the string to the right.\n",
    "\n",
    "**There other ways of subsetting that are worth knowing about. Do an independent reading of using .loc/.iloc with `DataFrames`**"
   ]
  },
  {
   "cell_type": "code",
   "execution_count": 19,
   "metadata": {},
   "outputs": [],
   "source": [
    "#Select for a particular column\n",
    "\n",
    "\n",
    "#this syntax, calling the column as an attribute, gives you the same output\n"
   ]
  },
  {
   "cell_type": "markdown",
   "metadata": {},
   "source": [
    "We can also create a new object that contains the data within the `continent` column"
   ]
  },
  {
   "cell_type": "code",
   "execution_count": 76,
   "metadata": {},
   "outputs": [
    {
     "data": {
      "text/plain": [
       "0       1952\n",
       "1       1957\n",
       "2       1962\n",
       "3       1967\n",
       "4       1972\n",
       "        ... \n",
       "1699    1987\n",
       "1700    1992\n",
       "1701    1997\n",
       "1702    2002\n",
       "1703    2007\n",
       "Name: year, Length: 1704, dtype: int64"
      ]
     },
     "execution_count": 76,
     "metadata": {},
     "output_type": "execute_result"
    }
   ],
   "source": [
    "gapminder_copy.year"
   ]
  },
  {
   "cell_type": "code",
   "execution_count": 77,
   "metadata": {},
   "outputs": [
    {
     "data": {
      "text/plain": [
       "0       1952\n",
       "1       1957\n",
       "2       1962\n",
       "3       1967\n",
       "4       1972\n",
       "        ... \n",
       "1699    1987\n",
       "1700    1992\n",
       "1701    1997\n",
       "1702    2002\n",
       "1703    2007\n",
       "Name: year, Length: 1704, dtype: int64"
      ]
     },
     "execution_count": 77,
     "metadata": {},
     "output_type": "execute_result"
    }
   ],
   "source": [
    "gapminder_copy['year']"
   ]
  },
  {
   "cell_type": "markdown",
   "metadata": {},
   "source": [
    "#### Sorting\n",
    "Sorting may help to further organize and inspect your data. The command `sort_values()` takes a number of arguments; the most important ones are `by` and `ascending.` The following command will sort your `DataFrame` by year, beginning with the most recent."
   ]
  },
  {
   "cell_type": "code",
   "execution_count": 79,
   "metadata": {},
   "outputs": [
    {
     "data": {
      "text/html": [
       "<div>\n",
       "<style scoped>\n",
       "    .dataframe tbody tr th:only-of-type {\n",
       "        vertical-align: middle;\n",
       "    }\n",
       "\n",
       "    .dataframe tbody tr th {\n",
       "        vertical-align: top;\n",
       "    }\n",
       "\n",
       "    .dataframe thead th {\n",
       "        text-align: right;\n",
       "    }\n",
       "</style>\n",
       "<table border=\"1\" class=\"dataframe\">\n",
       "  <thead>\n",
       "    <tr style=\"text-align: right;\">\n",
       "      <th></th>\n",
       "      <th>year</th>\n",
       "      <th>pop</th>\n",
       "      <th>lifeexp</th>\n",
       "      <th>gdpPercap</th>\n",
       "    </tr>\n",
       "  </thead>\n",
       "  <tbody>\n",
       "    <tr>\n",
       "      <th>1703</th>\n",
       "      <td>2007</td>\n",
       "      <td>12311143</td>\n",
       "      <td>43.487</td>\n",
       "      <td>469.709298</td>\n",
       "    </tr>\n",
       "    <tr>\n",
       "      <th>491</th>\n",
       "      <td>2007</td>\n",
       "      <td>551201</td>\n",
       "      <td>51.579</td>\n",
       "      <td>12154.089750</td>\n",
       "    </tr>\n",
       "    <tr>\n",
       "      <th>515</th>\n",
       "      <td>2007</td>\n",
       "      <td>76511887</td>\n",
       "      <td>52.947</td>\n",
       "      <td>690.805576</td>\n",
       "    </tr>\n",
       "    <tr>\n",
       "      <th>527</th>\n",
       "      <td>2007</td>\n",
       "      <td>5238460</td>\n",
       "      <td>79.313</td>\n",
       "      <td>33207.084400</td>\n",
       "    </tr>\n",
       "    <tr>\n",
       "      <th>539</th>\n",
       "      <td>2007</td>\n",
       "      <td>61083916</td>\n",
       "      <td>80.657</td>\n",
       "      <td>30470.016700</td>\n",
       "    </tr>\n",
       "    <tr>\n",
       "      <th>...</th>\n",
       "      <td>...</td>\n",
       "      <td>...</td>\n",
       "      <td>...</td>\n",
       "      <td>...</td>\n",
       "    </tr>\n",
       "    <tr>\n",
       "      <th>1116</th>\n",
       "      <td>1952</td>\n",
       "      <td>3379468</td>\n",
       "      <td>37.444</td>\n",
       "      <td>761.879376</td>\n",
       "    </tr>\n",
       "    <tr>\n",
       "      <th>1128</th>\n",
       "      <td>1952</td>\n",
       "      <td>33119096</td>\n",
       "      <td>36.324</td>\n",
       "      <td>1077.281856</td>\n",
       "    </tr>\n",
       "    <tr>\n",
       "      <th>1140</th>\n",
       "      <td>1952</td>\n",
       "      <td>3327728</td>\n",
       "      <td>72.670</td>\n",
       "      <td>10095.421720</td>\n",
       "    </tr>\n",
       "    <tr>\n",
       "      <th>1152</th>\n",
       "      <td>1952</td>\n",
       "      <td>507833</td>\n",
       "      <td>37.578</td>\n",
       "      <td>1828.230307</td>\n",
       "    </tr>\n",
       "    <tr>\n",
       "      <th>852</th>\n",
       "      <td>1952</td>\n",
       "      <td>160000</td>\n",
       "      <td>55.565</td>\n",
       "      <td>108382.352900</td>\n",
       "    </tr>\n",
       "  </tbody>\n",
       "</table>\n",
       "<p>1704 rows × 4 columns</p>\n",
       "</div>"
      ],
      "text/plain": [
       "      year       pop  lifeexp      gdpPercap\n",
       "1703  2007  12311143   43.487     469.709298\n",
       "491   2007    551201   51.579   12154.089750\n",
       "515   2007  76511887   52.947     690.805576\n",
       "527   2007   5238460   79.313   33207.084400\n",
       "539   2007  61083916   80.657   30470.016700\n",
       "...    ...       ...      ...            ...\n",
       "1116  1952   3379468   37.444     761.879376\n",
       "1128  1952  33119096   36.324    1077.281856\n",
       "1140  1952   3327728   72.670   10095.421720\n",
       "1152  1952    507833   37.578    1828.230307\n",
       "852   1952    160000   55.565  108382.352900\n",
       "\n",
       "[1704 rows x 4 columns]"
      ]
     },
     "execution_count": 79,
     "metadata": {},
     "output_type": "execute_result"
    }
   ],
   "source": [
    "#sort_values()\n",
    "gapminder_copy.sort_values(by='year', ascending = False)"
   ]
  },
  {
   "cell_type": "markdown",
   "metadata": {},
   "source": [
    "### Exercise\n",
    "\n",
    "Organize your data set by country, from ‘Afganistan’ to ‘Zimbabwe’."
   ]
  },
  {
   "cell_type": "markdown",
   "metadata": {},
   "source": [
    "## Summarize and plot\n",
    "\n",
    "Summaries (but can’t *say* statistics…)\n",
    "* Sort data\n",
    "* Basic summaries\n",
    "\n",
    "\n",
    "Plots \n",
    "* of subsets \n",
    "* single variables\n",
    "* pairs of variables\n",
    "* Matplotlib syntax (w/ Seaborn for defaults (prettier, package also good for more analysis later...))\n",
    "\n",
    "Exploring is often iterative - summarize, plot, summarize, plot, etc. - sometimes it branches…\n"
   ]
  },
  {
   "cell_type": "markdown",
   "metadata": {
    "collapsed": true
   },
   "source": [
    "# Summarizing data\n",
    "\n",
    "Remember that the `info()` method gives a few useful pieces of information, including the shape of the `DataFrame`, the variable type of each column, and the amount of memory stored. We can see many of our changes (continent and country columns instead of region, higher number of rows, etc.) reflected in the output of the `info()` method."
   ]
  },
  {
   "cell_type": "code",
   "execution_count": null,
   "metadata": {},
   "outputs": [],
   "source": [
    "gapminder_comb.info()"
   ]
  },
  {
   "cell_type": "markdown",
   "metadata": {},
   "source": [
    "We also saw above that the `describe()` method will take the numeric columns and give a summary of their values. We have to remember that we changed the column names and this time it shouldn't have NaNs."
   ]
  },
  {
   "cell_type": "code",
   "execution_count": null,
   "metadata": {},
   "outputs": [],
   "source": [
    "gapminder_comb[['pop', 'lifeexp', 'gdppercap']].describe()"
   ]
  },
  {
   "cell_type": "markdown",
   "metadata": {},
   "source": [
    "### More summaries\n",
    "\n",
    "What if we just want a single value, like the mean of the population? We can call mean on a single column this way:\n"
   ]
  },
  {
   "cell_type": "code",
   "execution_count": null,
   "metadata": {},
   "outputs": [],
   "source": []
  },
  {
   "cell_type": "markdown",
   "metadata": {},
   "source": [
    "What if we want to know the mean population by _continent_? Then we need to use the Pandas `groupby()` method and tell it which column we want to group by.\n"
   ]
  },
  {
   "cell_type": "code",
   "execution_count": null,
   "metadata": {},
   "outputs": [],
   "source": []
  },
  {
   "cell_type": "markdown",
   "metadata": {},
   "source": [
    "What if we want to know the median population by continent?\n"
   ]
  },
  {
   "cell_type": "code",
   "execution_count": null,
   "metadata": {},
   "outputs": [],
   "source": []
  },
  {
   "cell_type": "markdown",
   "metadata": {},
   "source": [
    "Or the number of entries (rows) per continent?\n"
   ]
  },
  {
   "cell_type": "code",
   "execution_count": null,
   "metadata": {},
   "outputs": [],
   "source": []
  },
  {
   "cell_type": "markdown",
   "metadata": {},
   "source": [
    "Sometimes we don't want a whole `DataFrame`. Here is another way to do this that produces a `Series` that tells us number of entries (rows) as opposed to a `DataFrame`. \n"
   ]
  },
  {
   "cell_type": "code",
   "execution_count": null,
   "metadata": {},
   "outputs": [],
   "source": []
  },
  {
   "cell_type": "markdown",
   "metadata": {},
   "source": [
    "We can also look at the mean GDP per capita of each country: \n"
   ]
  },
  {
   "cell_type": "code",
   "execution_count": null,
   "metadata": {},
   "outputs": [],
   "source": []
  },
  {
   "cell_type": "markdown",
   "metadata": {},
   "source": [
    "What if we wanted a new `DataFrame` that just contained these summaries? This could be a table in a report, for example."
   ]
  },
  {
   "cell_type": "code",
   "execution_count": 80,
   "metadata": {},
   "outputs": [
    {
     "data": {
      "text/html": [
       "<div>\n",
       "<style scoped>\n",
       "    .dataframe tbody tr th:only-of-type {\n",
       "        vertical-align: middle;\n",
       "    }\n",
       "\n",
       "    .dataframe tbody tr th {\n",
       "        vertical-align: top;\n",
       "    }\n",
       "\n",
       "    .dataframe thead th {\n",
       "        text-align: right;\n",
       "    }\n",
       "</style>\n",
       "<table border=\"1\" class=\"dataframe\">\n",
       "  <thead>\n",
       "    <tr style=\"text-align: right;\">\n",
       "      <th></th>\n",
       "      <th>nrows</th>\n",
       "      <th>meanpop</th>\n",
       "      <th>medianpop</th>\n",
       "    </tr>\n",
       "    <tr>\n",
       "      <th>continent</th>\n",
       "      <th></th>\n",
       "      <th></th>\n",
       "      <th></th>\n",
       "    </tr>\n",
       "  </thead>\n",
       "  <tbody>\n",
       "    <tr>\n",
       "      <th>americas</th>\n",
       "      <td>12</td>\n",
       "      <td>109598</td>\n",
       "      <td>111924</td>\n",
       "    </tr>\n",
       "  </tbody>\n",
       "</table>\n",
       "</div>"
      ],
      "text/plain": [
       "           nrows  meanpop  medianpop\n",
       "continent                           \n",
       "americas      12   109598     111924"
      ]
     },
     "execution_count": 80,
     "metadata": {},
     "output_type": "execute_result"
    }
   ],
   "source": [
    "continent_mean_pop = gapminder_comb[['continent', 'pop']].groupby(by='continent').mean()\n",
    "continent_mean_pop = continent_mean_pop.rename(columns = {'pop':'meanpop'})\n",
    "continent_row_ct = gapminder_comb[['continent', 'country']].groupby(by='continent').count()\n",
    "continent_row_ct = continent_row_ct.rename(columns = {'country':'nrows'})\n",
    "continent_median_pop = gapminder_comb[['continent', 'pop']].groupby(by='continent').median()\n",
    "continent_median_pop = continent_median_pop.rename(columns = {'pop':'medianpop'})\n",
    "gapminder_summs = pd.concat([continent_row_ct,continent_mean_pop,continent_median_pop], axis=1)\n",
    "gapminder_summs = gapminder_summs.rename(columns = {'y':'year'})\n",
    "gapminder_summs"
   ]
  },
  {
   "cell_type": "markdown",
   "metadata": {},
   "source": [
    "## Visualization with `matplotlib`\n",
    "\n",
    "Recall that [matplotlib](http://matplotlib.org) is Python's main visualization \n",
    "library. It provides a range of tools for constructing plots and numerous \n",
    "high-level plotting libraries (e.g., [Seaborn](http://seaborn.pydata.org)) are \n",
    "built with matplotlib in mind. When we were in the early stages of setting up \n",
    "our analysis, we loaded these libraries like so:"
   ]
  },
  {
   "cell_type": "code",
   "execution_count": 82,
   "metadata": {},
   "outputs": [],
   "source": [
    "import matplotlib.pyplot as plt\n",
    "%matplotlib inline\n",
    "import seaborn as sns\n",
    "sns.set()"
   ]
  },
  {
   "cell_type": "markdown",
   "metadata": {},
   "source": [
    "*Consider the above three commands to be essential practice for plotting (as\n",
    "essential as **`import`** `pandas` **`as`** `pd` is for data munging).*\n",
    "\n",
    "Now, let's turn to data visualization. In order to get a feel for the properties\n",
    "of the data set we are working with, data visualization is key. While, we will\n",
    "focus only on the essentials of how to properly construct plots in univariate\n",
    "and bivariate settings here, it's worth noting that both matplotlib and Seaborn\n",
    "support a diversity of plots: [matplotlib \n",
    "gallery](http://matplotlib.org/gallery.html), [Seaborn\n",
    "gallery](http://seaborn.pydata.org/examples/). \n",
    "\n",
    "\n",
    "---"
   ]
  },
  {
   "cell_type": "markdown",
   "metadata": {},
   "source": [
    "### Single variables\n",
    "\n",
    "* __Histograms__ - provide a quick way of visualizing the distribution of numerical\n",
    "  data, or the frequencies of observations for categorical variables."
   ]
  },
  {
   "cell_type": "code",
   "execution_count": null,
   "metadata": {},
   "outputs": [],
   "source": [
    "#import numpy as np\n"
   ]
  },
  {
   "cell_type": "markdown",
   "metadata": {},
   "source": [
    "* __Boxplots__ - provide a way of comparing the summary measures (e.g., max, min,\n",
    "  quartiles) across variables in a data set. Boxplots can be particularly useful with larger data sets.\n",
    "\n",
    "---"
   ]
  },
  {
   "cell_type": "code",
   "execution_count": null,
   "metadata": {},
   "outputs": [],
   "source": []
  },
  {
   "cell_type": "markdown",
   "metadata": {},
   "source": [
    "### Pairs of variables\n",
    "\n",
    "* __Scatterplots__ - visualization of relationships across two variables..."
   ]
  },
  {
   "cell_type": "code",
   "execution_count": 84,
   "metadata": {},
   "outputs": [
    {
     "ename": "KeyError",
     "evalue": "'gdppercap'",
     "output_type": "error",
     "traceback": [
      "\u001b[0;31m---------------------------------------------------------------------------\u001b[0m",
      "\u001b[0;31mKeyError\u001b[0m                                  Traceback (most recent call last)",
      "\u001b[0;32m/opt/anaconda3/lib/python3.8/site-packages/pandas/core/indexes/base.py\u001b[0m in \u001b[0;36mget_loc\u001b[0;34m(self, key, method, tolerance)\u001b[0m\n\u001b[1;32m   3079\u001b[0m             \u001b[0;32mtry\u001b[0m\u001b[0;34m:\u001b[0m\u001b[0;34m\u001b[0m\u001b[0;34m\u001b[0m\u001b[0m\n\u001b[0;32m-> 3080\u001b[0;31m                 \u001b[0;32mreturn\u001b[0m \u001b[0mself\u001b[0m\u001b[0;34m.\u001b[0m\u001b[0m_engine\u001b[0m\u001b[0;34m.\u001b[0m\u001b[0mget_loc\u001b[0m\u001b[0;34m(\u001b[0m\u001b[0mcasted_key\u001b[0m\u001b[0;34m)\u001b[0m\u001b[0;34m\u001b[0m\u001b[0;34m\u001b[0m\u001b[0m\n\u001b[0m\u001b[1;32m   3081\u001b[0m             \u001b[0;32mexcept\u001b[0m \u001b[0mKeyError\u001b[0m \u001b[0;32mas\u001b[0m \u001b[0merr\u001b[0m\u001b[0;34m:\u001b[0m\u001b[0;34m\u001b[0m\u001b[0;34m\u001b[0m\u001b[0m\n",
      "\u001b[0;32mpandas/_libs/index.pyx\u001b[0m in \u001b[0;36mpandas._libs.index.IndexEngine.get_loc\u001b[0;34m()\u001b[0m\n",
      "\u001b[0;32mpandas/_libs/index.pyx\u001b[0m in \u001b[0;36mpandas._libs.index.IndexEngine.get_loc\u001b[0;34m()\u001b[0m\n",
      "\u001b[0;32mpandas/_libs/hashtable_class_helper.pxi\u001b[0m in \u001b[0;36mpandas._libs.hashtable.PyObjectHashTable.get_item\u001b[0;34m()\u001b[0m\n",
      "\u001b[0;32mpandas/_libs/hashtable_class_helper.pxi\u001b[0m in \u001b[0;36mpandas._libs.hashtable.PyObjectHashTable.get_item\u001b[0;34m()\u001b[0m\n",
      "\u001b[0;31mKeyError\u001b[0m: 'gdppercap'",
      "\nThe above exception was the direct cause of the following exception:\n",
      "\u001b[0;31mKeyError\u001b[0m                                  Traceback (most recent call last)",
      "\u001b[0;32m<ipython-input-84-b42c01230855>\u001b[0m in \u001b[0;36m<module>\u001b[0;34m\u001b[0m\n\u001b[1;32m      1\u001b[0m \u001b[0;31m# scatter plot goes here\u001b[0m\u001b[0;34m\u001b[0m\u001b[0;34m\u001b[0m\u001b[0;34m\u001b[0m\u001b[0m\n\u001b[1;32m      2\u001b[0m \u001b[0;34m\u001b[0m\u001b[0m\n\u001b[0;32m----> 3\u001b[0;31m \u001b[0mplt\u001b[0m\u001b[0;34m.\u001b[0m\u001b[0mscatter\u001b[0m\u001b[0;34m(\u001b[0m\u001b[0mgapminder_copy\u001b[0m\u001b[0;34m[\u001b[0m\u001b[0;34m'gdppercap'\u001b[0m\u001b[0;34m]\u001b[0m\u001b[0;34m,\u001b[0m \u001b[0mgapminder_copy\u001b[0m\u001b[0;34m[\u001b[0m\u001b[0;34m'lifeexp'\u001b[0m\u001b[0;34m]\u001b[0m\u001b[0;34m)\u001b[0m\u001b[0;34m\u001b[0m\u001b[0;34m\u001b[0m\u001b[0m\n\u001b[0m\u001b[1;32m      4\u001b[0m \u001b[0mplt\u001b[0m\u001b[0;34m.\u001b[0m\u001b[0mxlabel\u001b[0m\u001b[0;34m(\u001b[0m\u001b[0;34m'gdpercap'\u001b[0m\u001b[0;34m)\u001b[0m\u001b[0;34m\u001b[0m\u001b[0;34m\u001b[0m\u001b[0m\n\u001b[1;32m      5\u001b[0m \u001b[0mplt\u001b[0m\u001b[0;34m.\u001b[0m\u001b[0mylabel\u001b[0m\u001b[0;34m(\u001b[0m\u001b[0;34m'lifeexp'\u001b[0m\u001b[0;34m)\u001b[0m\u001b[0;34m\u001b[0m\u001b[0;34m\u001b[0m\u001b[0m\n",
      "\u001b[0;32m/opt/anaconda3/lib/python3.8/site-packages/pandas/core/frame.py\u001b[0m in \u001b[0;36m__getitem__\u001b[0;34m(self, key)\u001b[0m\n\u001b[1;32m   3022\u001b[0m             \u001b[0;32mif\u001b[0m \u001b[0mself\u001b[0m\u001b[0;34m.\u001b[0m\u001b[0mcolumns\u001b[0m\u001b[0;34m.\u001b[0m\u001b[0mnlevels\u001b[0m \u001b[0;34m>\u001b[0m \u001b[0;36m1\u001b[0m\u001b[0;34m:\u001b[0m\u001b[0;34m\u001b[0m\u001b[0;34m\u001b[0m\u001b[0m\n\u001b[1;32m   3023\u001b[0m                 \u001b[0;32mreturn\u001b[0m \u001b[0mself\u001b[0m\u001b[0;34m.\u001b[0m\u001b[0m_getitem_multilevel\u001b[0m\u001b[0;34m(\u001b[0m\u001b[0mkey\u001b[0m\u001b[0;34m)\u001b[0m\u001b[0;34m\u001b[0m\u001b[0;34m\u001b[0m\u001b[0m\n\u001b[0;32m-> 3024\u001b[0;31m             \u001b[0mindexer\u001b[0m \u001b[0;34m=\u001b[0m \u001b[0mself\u001b[0m\u001b[0;34m.\u001b[0m\u001b[0mcolumns\u001b[0m\u001b[0;34m.\u001b[0m\u001b[0mget_loc\u001b[0m\u001b[0;34m(\u001b[0m\u001b[0mkey\u001b[0m\u001b[0;34m)\u001b[0m\u001b[0;34m\u001b[0m\u001b[0;34m\u001b[0m\u001b[0m\n\u001b[0m\u001b[1;32m   3025\u001b[0m             \u001b[0;32mif\u001b[0m \u001b[0mis_integer\u001b[0m\u001b[0;34m(\u001b[0m\u001b[0mindexer\u001b[0m\u001b[0;34m)\u001b[0m\u001b[0;34m:\u001b[0m\u001b[0;34m\u001b[0m\u001b[0;34m\u001b[0m\u001b[0m\n\u001b[1;32m   3026\u001b[0m                 \u001b[0mindexer\u001b[0m \u001b[0;34m=\u001b[0m \u001b[0;34m[\u001b[0m\u001b[0mindexer\u001b[0m\u001b[0;34m]\u001b[0m\u001b[0;34m\u001b[0m\u001b[0;34m\u001b[0m\u001b[0m\n",
      "\u001b[0;32m/opt/anaconda3/lib/python3.8/site-packages/pandas/core/indexes/base.py\u001b[0m in \u001b[0;36mget_loc\u001b[0;34m(self, key, method, tolerance)\u001b[0m\n\u001b[1;32m   3080\u001b[0m                 \u001b[0;32mreturn\u001b[0m \u001b[0mself\u001b[0m\u001b[0;34m.\u001b[0m\u001b[0m_engine\u001b[0m\u001b[0;34m.\u001b[0m\u001b[0mget_loc\u001b[0m\u001b[0;34m(\u001b[0m\u001b[0mcasted_key\u001b[0m\u001b[0;34m)\u001b[0m\u001b[0;34m\u001b[0m\u001b[0;34m\u001b[0m\u001b[0m\n\u001b[1;32m   3081\u001b[0m             \u001b[0;32mexcept\u001b[0m \u001b[0mKeyError\u001b[0m \u001b[0;32mas\u001b[0m \u001b[0merr\u001b[0m\u001b[0;34m:\u001b[0m\u001b[0;34m\u001b[0m\u001b[0;34m\u001b[0m\u001b[0m\n\u001b[0;32m-> 3082\u001b[0;31m                 \u001b[0;32mraise\u001b[0m \u001b[0mKeyError\u001b[0m\u001b[0;34m(\u001b[0m\u001b[0mkey\u001b[0m\u001b[0;34m)\u001b[0m \u001b[0;32mfrom\u001b[0m \u001b[0merr\u001b[0m\u001b[0;34m\u001b[0m\u001b[0;34m\u001b[0m\u001b[0m\n\u001b[0m\u001b[1;32m   3083\u001b[0m \u001b[0;34m\u001b[0m\u001b[0m\n\u001b[1;32m   3084\u001b[0m         \u001b[0;32mif\u001b[0m \u001b[0mtolerance\u001b[0m \u001b[0;32mis\u001b[0m \u001b[0;32mnot\u001b[0m \u001b[0;32mNone\u001b[0m\u001b[0;34m:\u001b[0m\u001b[0;34m\u001b[0m\u001b[0;34m\u001b[0m\u001b[0m\n",
      "\u001b[0;31mKeyError\u001b[0m: 'gdppercap'"
     ]
    }
   ],
   "source": [
    "# scatter plot goes here\n",
    "\n",
    "plt.scatter(gapminder_copy['gdppercap'], gapminder_copy['lifeexp'])\n",
    "plt.xlabel('gdppercap')\n",
    "plt.ylabel('lifeexp')"
   ]
  },
  {
   "cell_type": "code",
   "execution_count": 85,
   "metadata": {},
   "outputs": [
    {
     "ename": "KeyError",
     "evalue": "'gdppercap'",
     "output_type": "error",
     "traceback": [
      "\u001b[0;31m---------------------------------------------------------------------------\u001b[0m",
      "\u001b[0;31mKeyError\u001b[0m                                  Traceback (most recent call last)",
      "\u001b[0;32m/opt/anaconda3/lib/python3.8/site-packages/pandas/core/indexes/base.py\u001b[0m in \u001b[0;36mget_loc\u001b[0;34m(self, key, method, tolerance)\u001b[0m\n\u001b[1;32m   3079\u001b[0m             \u001b[0;32mtry\u001b[0m\u001b[0;34m:\u001b[0m\u001b[0;34m\u001b[0m\u001b[0;34m\u001b[0m\u001b[0m\n\u001b[0;32m-> 3080\u001b[0;31m                 \u001b[0;32mreturn\u001b[0m \u001b[0mself\u001b[0m\u001b[0;34m.\u001b[0m\u001b[0m_engine\u001b[0m\u001b[0;34m.\u001b[0m\u001b[0mget_loc\u001b[0m\u001b[0;34m(\u001b[0m\u001b[0mcasted_key\u001b[0m\u001b[0;34m)\u001b[0m\u001b[0;34m\u001b[0m\u001b[0;34m\u001b[0m\u001b[0m\n\u001b[0m\u001b[1;32m   3081\u001b[0m             \u001b[0;32mexcept\u001b[0m \u001b[0mKeyError\u001b[0m \u001b[0;32mas\u001b[0m \u001b[0merr\u001b[0m\u001b[0;34m:\u001b[0m\u001b[0;34m\u001b[0m\u001b[0;34m\u001b[0m\u001b[0m\n",
      "\u001b[0;32mpandas/_libs/index.pyx\u001b[0m in \u001b[0;36mpandas._libs.index.IndexEngine.get_loc\u001b[0;34m()\u001b[0m\n",
      "\u001b[0;32mpandas/_libs/index.pyx\u001b[0m in \u001b[0;36mpandas._libs.index.IndexEngine.get_loc\u001b[0;34m()\u001b[0m\n",
      "\u001b[0;32mpandas/_libs/hashtable_class_helper.pxi\u001b[0m in \u001b[0;36mpandas._libs.hashtable.PyObjectHashTable.get_item\u001b[0;34m()\u001b[0m\n",
      "\u001b[0;32mpandas/_libs/hashtable_class_helper.pxi\u001b[0m in \u001b[0;36mpandas._libs.hashtable.PyObjectHashTable.get_item\u001b[0;34m()\u001b[0m\n",
      "\u001b[0;31mKeyError\u001b[0m: 'gdppercap'",
      "\nThe above exception was the direct cause of the following exception:\n",
      "\u001b[0;31mKeyError\u001b[0m                                  Traceback (most recent call last)",
      "\u001b[0;32m<ipython-input-85-ede4a6e4f35c>\u001b[0m in \u001b[0;36m<module>\u001b[0;34m\u001b[0m\n\u001b[1;32m      1\u001b[0m \u001b[0;31m# let's try plotting the log of x\u001b[0m\u001b[0;34m\u001b[0m\u001b[0;34m\u001b[0m\u001b[0;34m\u001b[0m\u001b[0m\n\u001b[0;32m----> 2\u001b[0;31m \u001b[0mplt\u001b[0m\u001b[0;34m.\u001b[0m\u001b[0mscatter\u001b[0m\u001b[0;34m(\u001b[0m\u001b[0mgapminder_copy\u001b[0m\u001b[0;34m[\u001b[0m\u001b[0;34m'gdppercap'\u001b[0m\u001b[0;34m]\u001b[0m\u001b[0;34m,\u001b[0m \u001b[0mgapminder_copy\u001b[0m\u001b[0;34m[\u001b[0m\u001b[0;34m'lifeexp'\u001b[0m\u001b[0;34m]\u001b[0m\u001b[0;34m)\u001b[0m\u001b[0;34m\u001b[0m\u001b[0;34m\u001b[0m\u001b[0m\n\u001b[0m\u001b[1;32m      3\u001b[0m \u001b[0mplt\u001b[0m\u001b[0;34m.\u001b[0m\u001b[0mxscale\u001b[0m\u001b[0;34m(\u001b[0m\u001b[0;34m'log'\u001b[0m\u001b[0;34m)\u001b[0m\u001b[0;34m\u001b[0m\u001b[0;34m\u001b[0m\u001b[0m\n\u001b[1;32m      4\u001b[0m \u001b[0mplt\u001b[0m\u001b[0;34m.\u001b[0m\u001b[0mxlabel\u001b[0m\u001b[0;34m(\u001b[0m\u001b[0;34m'gdppercap'\u001b[0m\u001b[0;34m)\u001b[0m\u001b[0;34m\u001b[0m\u001b[0;34m\u001b[0m\u001b[0m\n\u001b[1;32m      5\u001b[0m \u001b[0mplt\u001b[0m\u001b[0;34m.\u001b[0m\u001b[0mylabel\u001b[0m\u001b[0;34m(\u001b[0m\u001b[0;34m'lifeexp'\u001b[0m\u001b[0;34m)\u001b[0m\u001b[0;34m\u001b[0m\u001b[0;34m\u001b[0m\u001b[0m\n",
      "\u001b[0;32m/opt/anaconda3/lib/python3.8/site-packages/pandas/core/frame.py\u001b[0m in \u001b[0;36m__getitem__\u001b[0;34m(self, key)\u001b[0m\n\u001b[1;32m   3022\u001b[0m             \u001b[0;32mif\u001b[0m \u001b[0mself\u001b[0m\u001b[0;34m.\u001b[0m\u001b[0mcolumns\u001b[0m\u001b[0;34m.\u001b[0m\u001b[0mnlevels\u001b[0m \u001b[0;34m>\u001b[0m \u001b[0;36m1\u001b[0m\u001b[0;34m:\u001b[0m\u001b[0;34m\u001b[0m\u001b[0;34m\u001b[0m\u001b[0m\n\u001b[1;32m   3023\u001b[0m                 \u001b[0;32mreturn\u001b[0m \u001b[0mself\u001b[0m\u001b[0;34m.\u001b[0m\u001b[0m_getitem_multilevel\u001b[0m\u001b[0;34m(\u001b[0m\u001b[0mkey\u001b[0m\u001b[0;34m)\u001b[0m\u001b[0;34m\u001b[0m\u001b[0;34m\u001b[0m\u001b[0m\n\u001b[0;32m-> 3024\u001b[0;31m             \u001b[0mindexer\u001b[0m \u001b[0;34m=\u001b[0m \u001b[0mself\u001b[0m\u001b[0;34m.\u001b[0m\u001b[0mcolumns\u001b[0m\u001b[0;34m.\u001b[0m\u001b[0mget_loc\u001b[0m\u001b[0;34m(\u001b[0m\u001b[0mkey\u001b[0m\u001b[0;34m)\u001b[0m\u001b[0;34m\u001b[0m\u001b[0;34m\u001b[0m\u001b[0m\n\u001b[0m\u001b[1;32m   3025\u001b[0m             \u001b[0;32mif\u001b[0m \u001b[0mis_integer\u001b[0m\u001b[0;34m(\u001b[0m\u001b[0mindexer\u001b[0m\u001b[0;34m)\u001b[0m\u001b[0;34m:\u001b[0m\u001b[0;34m\u001b[0m\u001b[0;34m\u001b[0m\u001b[0m\n\u001b[1;32m   3026\u001b[0m                 \u001b[0mindexer\u001b[0m \u001b[0;34m=\u001b[0m \u001b[0;34m[\u001b[0m\u001b[0mindexer\u001b[0m\u001b[0;34m]\u001b[0m\u001b[0;34m\u001b[0m\u001b[0;34m\u001b[0m\u001b[0m\n",
      "\u001b[0;32m/opt/anaconda3/lib/python3.8/site-packages/pandas/core/indexes/base.py\u001b[0m in \u001b[0;36mget_loc\u001b[0;34m(self, key, method, tolerance)\u001b[0m\n\u001b[1;32m   3080\u001b[0m                 \u001b[0;32mreturn\u001b[0m \u001b[0mself\u001b[0m\u001b[0;34m.\u001b[0m\u001b[0m_engine\u001b[0m\u001b[0;34m.\u001b[0m\u001b[0mget_loc\u001b[0m\u001b[0;34m(\u001b[0m\u001b[0mcasted_key\u001b[0m\u001b[0;34m)\u001b[0m\u001b[0;34m\u001b[0m\u001b[0;34m\u001b[0m\u001b[0m\n\u001b[1;32m   3081\u001b[0m             \u001b[0;32mexcept\u001b[0m \u001b[0mKeyError\u001b[0m \u001b[0;32mas\u001b[0m \u001b[0merr\u001b[0m\u001b[0;34m:\u001b[0m\u001b[0;34m\u001b[0m\u001b[0;34m\u001b[0m\u001b[0m\n\u001b[0;32m-> 3082\u001b[0;31m                 \u001b[0;32mraise\u001b[0m \u001b[0mKeyError\u001b[0m\u001b[0;34m(\u001b[0m\u001b[0mkey\u001b[0m\u001b[0;34m)\u001b[0m \u001b[0;32mfrom\u001b[0m \u001b[0merr\u001b[0m\u001b[0;34m\u001b[0m\u001b[0;34m\u001b[0m\u001b[0m\n\u001b[0m\u001b[1;32m   3083\u001b[0m \u001b[0;34m\u001b[0m\u001b[0m\n\u001b[1;32m   3084\u001b[0m         \u001b[0;32mif\u001b[0m \u001b[0mtolerance\u001b[0m \u001b[0;32mis\u001b[0m \u001b[0;32mnot\u001b[0m \u001b[0;32mNone\u001b[0m\u001b[0;34m:\u001b[0m\u001b[0;34m\u001b[0m\u001b[0;34m\u001b[0m\u001b[0m\n",
      "\u001b[0;31mKeyError\u001b[0m: 'gdppercap'"
     ]
    }
   ],
   "source": [
    "# let's try plotting the log of x\n",
    "plt.scatter(gapminder_copy['gdppercap'], gapminder_copy['lifeexp'])\n",
    "plt.xscale('log')\n",
    "plt.xlabel('gdppercap')\n",
    "plt.ylabel('lifeexp')"
   ]
  },
  {
   "cell_type": "code",
   "execution_count": null,
   "metadata": {},
   "outputs": [],
   "source": [
    "# Try creating a plot on your own"
   ]
  },
  {
   "cell_type": "markdown",
   "metadata": {},
   "source": [
    "---\n",
    "\n",
    "### Why use `seaborn`?\n",
    "\n",
    "As noted above, Seaborn is a high-level plotting library for statistical data \n",
    "visualization. In addition to simplifying plotting, it also provides facilities \n",
    "for customizing matplotlib plots (accessible via `sns.set()`)."
   ]
  },
  {
   "cell_type": "markdown",
   "metadata": {},
   "source": [
    "### Saving your plots as image files  \n",
    "If you'd like to save your plots as an image file, you can run `fig.savefig('my_figure.png')` where `\"my_figure\"` is the file name.    "
   ]
  },
  {
   "cell_type": "markdown",
   "metadata": {},
   "source": [
    "## Interpret plots and summaries\n",
    "\n",
    "### Exploration is an iterative process\n",
    "\n",
    "In this lesson, we've taken the raw data and worked through steps to prepare it for analysis, but we have not yet done any \"data analysis\".  This part of the data workflow can be thought of as \"exploratory data analysis\", or EDA.  Many of the steps we've shown are aimed at uncovering interesting or problematic things in the dataset that are not immediately obvious.  We want to stress that when you're doing EDA, it will not necessarily be a linear workflow like what we have shown.  When you plot or summarize your data, you may uncover new issues: for example, we saw this when we made a mistake fixing the naming conventions for the Democratic Republic of Congo.  You might discover outliers, unusually large values, or points that don't make sense in your plots.  Clearly, the work here isn't done: you'll have to investigate these points, decide how to fix any potential problems, document the reasoning for your actions, and check that your fix actually worked.\n",
    "\n",
    "On the other hand, plots and summaries might reveal interesting questions about your data.  You may return to the cleaning and prepping steps in order to dig deeper into these questions.  You should continuously refine your plots to give the clearest picture of your hypotheses.\n",
    "\n",
    "### Interesting findings\n",
    "\n",
    "What's interesting about this data set? What would you like to investigate further?\n"
   ]
  },
  {
   "cell_type": "markdown",
   "metadata": {},
   "source": [
    "Answer:"
   ]
  },
  {
   "cell_type": "code",
   "execution_count": null,
   "metadata": {},
   "outputs": [],
   "source": []
  },
  {
   "cell_type": "markdown",
   "metadata": {
    "collapsed": true
   },
   "source": [
    "# Putting it all together\n",
    "\n",
    "On your own or with a partner, using the techniques you've learned in this lesson, explore one or both of the data sets provided in Data Carpentry's Lessons [Introduction to Genomics](https://datacarpentry.org/wrangling-genomics/) and [Python for Ecologists](https://datacarpentry.org/python-ecology-lesson/02-starting-with-data/index.html). We've provided headers to guide you through the process.\n",
    "\n",
    "* The Wrangling Genomics lesson uses the [Lenski dataset](http://www.ncbi.nlm.nih.gov/sra?term=SRA026813). Background information on this data set can be found on [this page](https://datacarpentry.org/wrangling-genomics/01-background/index.html). Right click and select \"Save Link As...\" to donwload [Ecoli_metadata_composite.csv](https://raw.githubusercontent.com/datacarpentry/wrangling-genomics/gh-pages/files/Ecoli_metadata_composite.csv).\n",
    "* The Ecology Lesson uses [surveys.csv](https://ndownloader.figshare.com/files/2292172) from the Portal Teaching data, a subset of the data from [Ernst et al Long-term monitoring and experimental manipulation of a Chihuahuan Desert ecosystem near Portal, Arizona, USA](http://www.esapubs.org/archive/ecol/E090/118/default.htm). "
   ]
  },
  {
   "cell_type": "markdown",
   "metadata": {},
   "source": [
    "#### Import your data"
   ]
  },
  {
   "cell_type": "code",
   "execution_count": null,
   "metadata": {
    "collapsed": true
   },
   "outputs": [],
   "source": []
  },
  {
   "cell_type": "markdown",
   "metadata": {},
   "source": [
    "#### Describe your data set here using *Markdown*\n",
    "What is the general shape of your `DataFrame`? What are the datatypes? Are there missing values? What questions do you have about your data set and how will you answer those questions?"
   ]
  },
  {
   "cell_type": "markdown",
   "metadata": {},
   "source": [
    "Answers:"
   ]
  },
  {
   "cell_type": "markdown",
   "metadata": {},
   "source": [
    "#### Calculate summary statistics for your data set"
   ]
  },
  {
   "cell_type": "code",
   "execution_count": null,
   "metadata": {
    "collapsed": true
   },
   "outputs": [],
   "source": []
  },
  {
   "cell_type": "markdown",
   "metadata": {},
   "source": [
    "#### Is this a tidy data set? Why or why not?"
   ]
  },
  {
   "cell_type": "code",
   "execution_count": null,
   "metadata": {
    "collapsed": true
   },
   "outputs": [],
   "source": []
  },
  {
   "cell_type": "markdown",
   "metadata": {},
   "source": [
    "#### Create bar, box, and scatter plots of your data set. What insights do these plots provide?"
   ]
  },
  {
   "cell_type": "code",
   "execution_count": null,
   "metadata": {
    "collapsed": true
   },
   "outputs": [],
   "source": []
  },
  {
   "cell_type": "markdown",
   "metadata": {},
   "source": [
    "## Key points\n",
    "\n",
    "* Data exploration involves inspecting, summarizing, and plotting data in various ways.\n",
    "* Successful data exploration may reveal that the data needs to be modified or cleaned.\n",
    "* Data exploration is an iterative process."
   ]
  }
 ],
 "metadata": {
  "kernelspec": {
   "display_name": "Python 3",
   "language": "python",
   "name": "python3"
  },
  "language_info": {
   "codemirror_mode": {
    "name": "ipython",
    "version": 3
   },
   "file_extension": ".py",
   "mimetype": "text/x-python",
   "name": "python",
   "nbconvert_exporter": "python",
   "pygments_lexer": "ipython3",
   "version": "3.8.8"
  }
 },
 "nbformat": 4,
 "nbformat_minor": 1
}
